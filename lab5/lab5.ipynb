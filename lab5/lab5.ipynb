{
 "cells": [
  {
   "cell_type": "code",
   "execution_count": 1,
   "metadata": {
    "collapsed": true
   },
   "outputs": [],
   "source": [
    "import functools\n",
    "import glob\n",
    "import heapq\n",
    "import itertools\n",
    "import json\n",
    "import operator\n",
    "import os\n",
    "import pickle\n",
    "import re\n",
    "from collections import Counter, namedtuple\n",
    "\n",
    "import loglikelihood\n",
    "import numpy as np\n",
    "import requests\n",
    "from bs4 import BeautifulSoup"
   ]
  },
  {
   "cell_type": "code",
   "execution_count": 2,
   "metadata": {
    "collapsed": true
   },
   "outputs": [],
   "source": [
    "def create_dir_if_doesnt_exist(directory):\n",
    "    if not os.path.exists(directory):\n",
    "        os.makedirs(directory)\n",
    "\n",
    "\n",
    "YEAR = 2009\n",
    "PATH = 'F:\\\\saos\\\\data\\\\json\\\\judgments-*'\n",
    "RESULTS_DIR = 'results'\n",
    "HELPERS_DIR = 'helpers'\n",
    "\n",
    "create_dir_if_doesnt_exist(RESULTS_DIR)\n",
    "create_dir_if_doesnt_exist(HELPERS_DIR)\n",
    "\n",
    "FILENAMES_FOR_YEAR = os.path.join(HELPERS_DIR, f'judgments_from_{YEAR}.json')\n",
    "UNIGRAMS_COUNTS_FILENAME = os.path.join(HELPERS_DIR, 'unigrams_counts.pkl')\n",
    "BIGRAMS_COUNTS_FILENAME = os.path.join(HELPERS_DIR, 'bigrams_counts.pkl')\n",
    "NUMBER_OF_RESULTS = 30\n",
    "TAGGER_SERVER_URL = 'http://localhost:9200'"
   ]
  },
  {
   "cell_type": "code",
   "execution_count": 3,
   "metadata": {
    "collapsed": true
   },
   "outputs": [],
   "source": [
    "TaggingResult = namedtuple('TaggingResult', 'word tag')\n",
    "\n",
    "\n",
    "def generate_unigrams_from_response(response):\n",
    "    for line in response.split('\\n'):\n",
    "        if not line.startswith('\\t'):\n",
    "            continue\n",
    "        _, word, tags, _ = line.split('\\t')\n",
    "        tag = tags.split(':')[0]\n",
    "        yield TaggingResult(word.lower(), tag)\n",
    "\n",
    "\n",
    "def generate_bigrams_from_response(response):\n",
    "    yield from pairwise(generate_unigrams_from_response(response))\n",
    "\n",
    "\n",
    "def pairwise(iterable):\n",
    "    \"s -> (s0,s1), (s1,s2), (s2, s3), ...\"\n",
    "    a, b = itertools.tee(iterable)\n",
    "    next(b, None)\n",
    "    return zip(a, b)"
   ]
  },
  {
   "cell_type": "code",
   "execution_count": 4,
   "metadata": {
    "collapsed": true
   },
   "outputs": [],
   "source": [
    "year_pattern = str(YEAR) + '-\\d{2}-\\d{2}'\n",
    "\n",
    "\n",
    "def get_filenames_with_judgments_for_year(judgment_filenames):\n",
    "    with open(FILENAMES_FOR_YEAR, 'w') as file:\n",
    "        filenames_for_year = filter(contains_judgments_from_year, judgment_filenames)\n",
    "        json.dump(list(filenames_for_year), file)\n",
    "\n",
    "\n",
    "def contains_judgments_from_year(filename):\n",
    "    return any(re.match(year_pattern, item['judgmentDate']) for item in get_judgments(filename))\n",
    "\n",
    "\n",
    "def get_judgments(filename):\n",
    "    with open(filename, encoding='utf-8') as file:\n",
    "        content = json.load(file)\n",
    "    return (item for item in content['items'] if re.match(year_pattern, item['judgmentDate']))\n",
    "\n",
    "\n",
    "def clear_text(text: str):\n",
    "    return re.sub('-\\n', '', BeautifulSoup(text).get_text())"
   ]
  },
  {
   "cell_type": "code",
   "execution_count": 5,
   "metadata": {
    "collapsed": true
   },
   "outputs": [],
   "source": [
    "def generate_bigrams(texts):\n",
    "    for index, judgment_text in enumerate(texts):\n",
    "        print(index)\n",
    "        resp = requests.post(TAGGER_SERVER_URL, data=judgment_text.encode('utf-8'))\n",
    "        yield from generate_bigrams_from_response(resp.text)\n",
    "\n",
    "\n",
    "def generate_unigrams(texts):\n",
    "    for index, judgment_text in enumerate(texts):\n",
    "        print(index)\n",
    "        resp = requests.post(TAGGER_SERVER_URL, data=judgment_text.encode('utf-8'))\n",
    "        yield from generate_unigrams_from_response(resp.text)"
   ]
  },
  {
   "cell_type": "code",
   "execution_count": 6,
   "metadata": {
    "collapsed": true
   },
   "outputs": [],
   "source": [
    "def is_noun(tagging_result):\n",
    "    return tagging_result.tag in ('subst', 'depr')  # , 'num', 'numcol')\n",
    "\n",
    "\n",
    "def is_adjective(tagging_result):\n",
    "    return tagging_result.tag in ('adj', 'adja', 'adjp', 'adjc')"
   ]
  },
  {
   "cell_type": "code",
   "execution_count": 7,
   "metadata": {
    "collapsed": true
   },
   "outputs": [],
   "source": [
    "def log_likelihood_ratio(bigram, *, word_counter, bigrams_counter, words_count, bigrams_count):\n",
    "    first_word, second_word = bigram\n",
    "    k11 = bigrams_counter[bigram] / bigrams_count\n",
    "    k12 = word_counter[second_word] / words_count - k11\n",
    "    k21 = word_counter[first_word] / words_count - k11\n",
    "    k22 = 1 - (k12 + k21 - k11)\n",
    "    matrix = np.matrix([\n",
    "        [k11, k12],\n",
    "        [k21, k22]\n",
    "    ])\n",
    "    return loglikelihood.llr(matrix)"
   ]
  },
  {
   "cell_type": "code",
   "execution_count": 8,
   "metadata": {
    "collapsed": true
   },
   "outputs": [],
   "source": [
    "all_judgment_filenames = glob.glob(PATH)\n",
    "\n",
    "if not os.path.isfile(FILENAMES_FOR_YEAR):\n",
    "    get_filenames_with_judgments_for_year(all_judgment_filenames)\n",
    "\n",
    "with open(FILENAMES_FOR_YEAR) as file:\n",
    "    filenames_with_judgments_for_year = json.load(file)\n",
    "    judgments = itertools.chain.from_iterable(map(get_judgments, filenames_with_judgments_for_year))\n",
    "\n",
    "judgment_texts = (clear_text(judgment['textContent']) for judgment in judgments)"
   ]
  },
  {
   "cell_type": "code",
   "execution_count": 9,
   "metadata": {
    "collapsed": true
   },
   "outputs": [],
   "source": [
    "if not os.path.isfile(UNIGRAMS_COUNTS_FILENAME):\n",
    "    counter = Counter(generate_unigrams(judgment_texts))\n",
    "    with open(UNIGRAMS_COUNTS_FILENAME, 'wb') as file:\n",
    "        pickle.dump(counter, file)\n",
    "\n",
    "with open(UNIGRAMS_COUNTS_FILENAME, 'rb') as file:\n",
    "    unigrams_counter: Counter = pickle.load(file)"
   ]
  },
  {
   "cell_type": "code",
   "execution_count": 10,
   "metadata": {
    "collapsed": true
   },
   "outputs": [],
   "source": [
    "if not os.path.isfile(BIGRAMS_COUNTS_FILENAME):\n",
    "    counter = Counter(generate_bigrams(judgment_texts))\n",
    "    with open(BIGRAMS_COUNTS_FILENAME, 'wb') as file:\n",
    "        pickle.dump(counter, file)\n",
    "\n",
    "with open(BIGRAMS_COUNTS_FILENAME, 'rb') as file:\n",
    "    bigrams_counter: Counter = pickle.load(file)"
   ]
  },
  {
   "cell_type": "code",
   "execution_count": 11,
   "metadata": {
    "collapsed": true
   },
   "outputs": [],
   "source": [
    "unigrams_count = sum(unigrams_counter.values())"
   ]
  },
  {
   "cell_type": "code",
   "execution_count": 12,
   "metadata": {
    "collapsed": true
   },
   "outputs": [],
   "source": [
    "bigrams_count = sum(bigrams_counter.values())"
   ]
  },
  {
   "cell_type": "code",
   "execution_count": 13,
   "metadata": {
    "collapsed": true
   },
   "outputs": [],
   "source": [
    "filtered_bigrams = {bigram for bigram in bigrams_counter\n",
    "                    if is_noun(bigram[0]) and (is_noun(bigram[1]) or is_adjective(bigram[1]))}"
   ]
  },
  {
   "cell_type": "code",
   "execution_count": 14,
   "metadata": {},
   "outputs": [
    {
     "name": "stdout",
     "output_type": "stream",
     "text": [
      "(TaggingResult(word='zamówienie', tag='subst'), TaggingResult(word='publiczny', tag='adj')) 0.12023906530528296\n",
      "(TaggingResult(word='sąd', tag='subst'), TaggingResult(word='wysoki', tag='adj')) 0.10748892403330568\n",
      "(TaggingResult(word='sąd', tag='subst'), TaggingResult(word='okręgowy', tag='adj')) 0.10044403384405268\n",
      "(TaggingResult(word='trybunał', tag='subst'), TaggingResult(word='konstytucyjny', tag='adj')) 0.09992386282213396\n",
      "(TaggingResult(word='skarga', tag='subst'), TaggingResult(word='kasacyjny', tag='adj')) 0.08758262299041475\n",
      "(TaggingResult(word='sąd', tag='subst'), TaggingResult(word='apelacyjny', tag='adj')) 0.08488378690037288\n",
      "(TaggingResult(word='ubezpieczenie', tag='subst'), TaggingResult(word='społeczny', tag='adj')) 0.07424202479837948\n",
      "(TaggingResult(word='zero', tag='subst'), TaggingResult(word='grosz', tag='subst')) 0.06968564432890756\n",
      "(TaggingResult(word='przedmiot', tag='subst'), TaggingResult(word='zamówienie', tag='subst')) 0.0671478616649279\n",
      "(TaggingResult(word='skarga', tag='subst'), TaggingResult(word='konstytucyjny', tag='adj')) 0.06605923689692522\n",
      "(TaggingResult(word='sąd', tag='subst'), TaggingResult(word='rejonowy', tag='adj')) 0.0644495373232521\n",
      "(TaggingResult(word='urząd', tag='subst'), TaggingResult(word='zamówienie', tag='subst')) 0.0643901805074235\n",
      "(TaggingResult(word='skarb', tag='subst'), TaggingResult(word='państwo', tag='subst')) 0.062092661498156586\n",
      "(TaggingResult(word='ustawa', tag='subst'), TaggingResult(word='pzp', tag='subst')) 0.060571773544677646\n",
      "(TaggingResult(word='warunek', tag='subst'), TaggingResult(word='udział', tag='subst')) 0.059437307091861444\n",
      "(TaggingResult(word='działalność', tag='subst'), TaggingResult(word='gospodarczy', tag='adj')) 0.059301122291177503\n",
      "(TaggingResult(word='prawo', tag='subst'), TaggingResult(word='zamówienie', tag='subst')) 0.05758634784275847\n",
      "(TaggingResult(word='dzień', tag='subst'), TaggingResult(word='29', tag='adj')) 0.05731238532615411\n",
      "(TaggingResult(word='wyrok', tag='subst'), TaggingResult(word='sąd', tag='subst')) 0.05708039643880093\n",
      "(TaggingResult(word='specyfikacja', tag='subst'), TaggingResult(word='istotny', tag='adj')) 0.05697121094800172\n",
      "(TaggingResult(word='posiedzenie', tag='subst'), TaggingResult(word='niejawny', tag='adj')) 0.054178614753456866\n",
      "(TaggingResult(word='izba', tag='subst'), TaggingResult(word='odwoławczy', tag='adj')) 0.05304385145838533\n",
      "(TaggingResult(word='rzeczpospolita', tag='subst'), TaggingResult(word='polski', tag='adj')) 0.05265629892298068\n",
      "(TaggingResult(word='koszt', tag='subst'), TaggingResult(word='postępowanie', tag='subst')) 0.05180840555604102\n",
      "(TaggingResult(word='rachunek', tag='subst'), TaggingResult(word='dochód', tag='subst')) 0.05049558234289874\n",
      "(TaggingResult(word='styczeń', tag='subst'), TaggingResult(word='2004', tag='adj')) 0.05042085964243533\n",
      "(TaggingResult(word='dochód', tag='subst'), TaggingResult(word='własny', tag='adj')) 0.05017282866573088\n",
      "(TaggingResult(word='złoty', tag='subst'), TaggingResult(word='zero', tag='subst')) 0.049849242038203984\n",
      "(TaggingResult(word='stan', tag='subst'), TaggingResult(word='faktyczny', tag='adj')) 0.04955571850778633\n",
      "(TaggingResult(word='rada', tag='subst'), TaggingResult(word='minister', tag='subst')) 0.04868626091511499\n"
     ]
    }
   ],
   "source": [
    "func = functools.partial(log_likelihood_ratio, word_counter=unigrams_counter, bigrams_counter=bigrams_counter,\n",
    "                         words_count=unigrams_count, bigrams_count=bigrams_count)\n",
    "filtered_bigrams_with_llr = {key: func(key) for key in filtered_bigrams}\n",
    "best_results = heapq.nlargest(NUMBER_OF_RESULTS, filtered_bigrams_with_llr.items(), key=operator.itemgetter(1))\n",
    "for bigram, llr_value in best_results:\n",
    "    print(bigram, llr_value)"
   ]
  },
  {
   "cell_type": "code",
   "execution_count": 15,
   "metadata": {},
   "outputs": [
    {
     "name": "stdout",
     "output_type": "stream",
     "text": [
      "('zamówienie', 'publiczny') 0.12023906530528296\n",
      "('sąd', 'wysoki') 0.10748892403330568\n",
      "('sąd', 'okręgowy') 0.10044403384405268\n",
      "('trybunał', 'konstytucyjny') 0.09992386282213396\n",
      "('skarga', 'kasacyjny') 0.08758262299041475\n",
      "('sąd', 'apelacyjny') 0.08488378690037288\n",
      "('ubezpieczenie', 'społeczny') 0.07424202479837948\n",
      "('zero', 'grosz') 0.06968564432890756\n",
      "('przedmiot', 'zamówienie') 0.0671478616649279\n",
      "('skarga', 'konstytucyjny') 0.06605923689692522\n",
      "('sąd', 'rejonowy') 0.0644495373232521\n",
      "('urząd', 'zamówienie') 0.0643901805074235\n",
      "('skarb', 'państwo') 0.062092661498156586\n",
      "('ustawa', 'pzp') 0.060571773544677646\n",
      "('warunek', 'udział') 0.059437307091861444\n",
      "('działalność', 'gospodarczy') 0.059301122291177503\n",
      "('prawo', 'zamówienie') 0.05758634784275847\n",
      "('dzień', '29') 0.05731238532615411\n",
      "('wyrok', 'sąd') 0.05708039643880093\n",
      "('specyfikacja', 'istotny') 0.05697121094800172\n",
      "('posiedzenie', 'niejawny') 0.054178614753456866\n",
      "('izba', 'odwoławczy') 0.05304385145838533\n",
      "('rzeczpospolita', 'polski') 0.05265629892298068\n",
      "('koszt', 'postępowanie') 0.05180840555604102\n",
      "('rachunek', 'dochód') 0.05049558234289874\n",
      "('styczeń', '2004') 0.05042085964243533\n",
      "('dochód', 'własny') 0.05017282866573088\n",
      "('złoty', 'zero') 0.049849242038203984\n",
      "('stan', 'faktyczny') 0.04955571850778633\n",
      "('rada', 'minister') 0.04868626091511499\n"
     ]
    }
   ],
   "source": [
    "for bigram, llr_value in best_results:\n",
    "    first, second = bigram\n",
    "    print((first.word, second.word), llr_value)"
   ]
  }
 ],
 "metadata": {
  "kernelspec": {
   "display_name": "Python 3",
   "language": "python",
   "name": "python3"
  },
  "language_info": {
   "codemirror_mode": {
    "name": "ipython",
    "version": 3
   },
   "file_extension": ".py",
   "mimetype": "text/x-python",
   "name": "python",
   "nbconvert_exporter": "python",
   "pygments_lexer": "ipython3",
   "version": "3.6.3"
  }
 },
 "nbformat": 4,
 "nbformat_minor": 2
}
