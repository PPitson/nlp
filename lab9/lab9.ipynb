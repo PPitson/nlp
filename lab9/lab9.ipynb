{
 "cells": [
  {
   "cell_type": "code",
   "execution_count": 1,
   "metadata": {},
   "outputs": [
    {
     "name": "stderr",
     "output_type": "stream",
     "text": [
      "E:\\Program Files\\Anaconda\\lib\\site-packages\\gensim\\utils.py:1197: UserWarning: detected Windows; aliasing chunkize to chunkize_serial\n",
      "  warnings.warn(\"detected Windows; aliasing chunkize to chunkize_serial\")\n"
     ]
    }
   ],
   "source": [
    "import functools\n",
    "import glob\n",
    "import itertools\n",
    "import json\n",
    "import operator\n",
    "import os\n",
    "import re\n",
    "import string\n",
    "import xml.etree.ElementTree as ET\n",
    "from collections import Counter, namedtuple, defaultdict\n",
    "\n",
    "import matplotlib.pyplot as plt\n",
    "import nltk\n",
    "import numpy as np\n",
    "import requests\n",
    "from bs4 import BeautifulSoup\n",
    "import gensim.models as gm\n",
    "from sklearn.manifold import TSNE"
   ]
  },
  {
   "cell_type": "code",
   "execution_count": 2,
   "metadata": {
    "collapsed": true
   },
   "outputs": [],
   "source": [
    "PATH = 'F:\\\\saos\\\\data\\\\json\\\\judgments-*'\n",
    "CORPUS_DIR = 'texts2'\n",
    "MODEL_NAME = 'model3'"
   ]
  },
  {
   "cell_type": "code",
   "execution_count": 3,
   "metadata": {
    "collapsed": true
   },
   "outputs": [],
   "source": [
    "def get_judgment_texts(filename):\n",
    "    with open(filename, encoding='utf-8') as file:\n",
    "        content = json.load(file)\n",
    "    return (clear_text(item['textContent']) for item in content['items'])\n",
    "\n",
    "\n",
    "def clear_text(text: str):\n",
    "    html_clear_text = BeautifulSoup(text, 'lxml').get_text()\n",
    "    return re.sub('-\\n', '', html_clear_text)\n",
    "\n",
    "\n",
    "def file_number(filename):\n",
    "    hyphen_index = filename.find('-')\n",
    "    dot_index = filename.find('.')\n",
    "    return int(filename[hyphen_index:dot_index])"
   ]
  },
  {
   "cell_type": "code",
   "execution_count": 4,
   "metadata": {
    "collapsed": true
   },
   "outputs": [],
   "source": [
    "if not os.path.exists(CORPUS_DIR):\n",
    "    all_judgment_filenames = sorted(glob.glob(PATH), key=file_number)\n",
    "    texts = itertools.chain.from_iterable(map(get_judgment_texts, all_judgment_filenames))\n",
    "    for index, text in enumerate(texts):\n",
    "        words = (token for token in nltk.word_tokenize(text, language='polish') if token not in string.punctuation)\n",
    "        with open(os.path.join(CORPUS_DIR, f'{index}.txt'), 'w', encoding='utf-8') as file:\n",
    "            file.write(' '.join(words))\n",
    "        print(index)\n",
    "        if index > 60000:  # should be more than 1 GB of texts\n",
    "            break"
   ]
  },
  {
   "cell_type": "code",
   "execution_count": 19,
   "metadata": {
    "collapsed": true
   },
   "outputs": [],
   "source": [
    "def train_model():\n",
    "    sentences = gm.word2vec.PathLineSentences(CORPUS_DIR)\n",
    "    phrases = gm.phrases.Phrases(sentences, delimiter=b' ')\n",
    "    bigram = gm.phrases.Phraser(phrases)\n",
    "    trigram = gm.phrases.Phrases(bigram[sentences], delimiter=b' ')\n",
    "    phraser = gm.phrases.Phraser(trigram)\n",
    "    model = gm.word2vec.Word2Vec(phraser[sentences], sg=0, window=5, size=300, min_count=3, workers=16)\n",
    "    model.save(MODEL_NAME)\n",
    "    \n",
    "if not os.path.exists(MODEL_NAME):\n",
    "    train_model()"
   ]
  },
  {
   "cell_type": "code",
   "execution_count": 20,
   "metadata": {
    "collapsed": true,
    "scrolled": true
   },
   "outputs": [],
   "source": [
    "model = gm.word2vec.Word2Vec.load(MODEL_NAME)"
   ]
  },
  {
   "cell_type": "code",
   "execution_count": 21,
   "metadata": {
    "scrolled": true
   },
   "outputs": [
    {
     "name": "stdout",
     "output_type": "stream",
     "text": [
      "Sąd Najwyższy\n",
      "Sad Najwyższy 0.7552286982536316\n",
      "Trybunał Konstytucyjny 0.7463752031326294\n",
      "Trybunał 0.6924906969070435\n",
      "\n",
      "Trybunał Konstytucyjny\n",
      "Trybunał 0.8502930402755737\n",
      "Trybunał Sprawiedliwości 0.7915868759155273\n",
      "TSUE 0.7716569900512695\n",
      "\n",
      "kodeks cywilny\n",
      "Kodeks cywilny 0.7345961332321167\n",
      "kodeks karny 0.7077544927597046\n",
      "ustawa ta 0.6570603847503662\n",
      "\n",
      "kpk\n",
      "k.p.k 0.9305874705314636\n",
      "k.p.k. 0.9046614766120911\n",
      "KPK 0.807941734790802\n",
      "\n",
      "sąd rejonowy\n",
      "sąd meriti 0.9072951078414917\n",
      "Sąd meriti 0.8900603652000427\n",
      "sąd okręgowy 0.8645068407058716\n",
      "\n",
      "szkoda\n",
      "szkoda ta 0.7602248191833496\n",
      "szkoda majątkowa 0.7396939992904663\n",
      "Szkoda 0.6842246055603027\n",
      "\n",
      "wypadek\n",
      "przypadek 0.5461269021034241\n",
      "skutek 0.5364439487457275\n",
      "przedmiotowy wypadek 0.5290244817733765\n",
      "\n",
      "kolizja\n",
      "kolizja drogowa 0.736346960067749\n",
      "usterka 0.693447470664978\n",
      "awaria 0.6833497285842896\n",
      "\n",
      "szkoda majątkowa\n",
      "szkoda 0.7396939992904663\n",
      "krzywda 0.7171034812927246\n",
      "szkoda ta 0.6987612247467041\n",
      "\n",
      "nieszczęście\n",
      "symptomy wskazywały 0.6347035765647888\n",
      "odblaskową 0.6209073066711426\n",
      "sztylet 0.6112782955169678\n",
      "\n",
      "rozwód\n",
      "orzeczenie rozwodu 0.7122822999954224\n",
      "rozwiązanie małżeństwa 0.6669145822525024\n",
      "małżeństwo stron 0.6302191019058228\n",
      "\n"
     ]
    }
   ],
   "source": [
    "expressions = (\n",
    "    'Sąd Najwyższy',\n",
    "    'Trybunał Konstytucyjny',\n",
    "    'kodeks cywilny',\n",
    "    'kpk',\n",
    "    'sąd rejonowy',\n",
    "    'szkoda',\n",
    "    'wypadek',\n",
    "    'kolizja',\n",
    "    'szkoda majątkowa',\n",
    "    'nieszczęście',\n",
    "    'rozwód'\n",
    ")\n",
    "for expression in expressions:\n",
    "    print(expression)\n",
    "    similar_expressions = model.wv.most_similar(positive=expression)\n",
    "    for phrase, score in similar_expressions[:3]:\n",
    "        print(phrase, score)\n",
    "    print()"
   ]
  },
  {
   "cell_type": "code",
   "execution_count": 22,
   "metadata": {
    "scrolled": false
   },
   "outputs": [
    {
     "name": "stdout",
     "output_type": "stream",
     "text": [
      "Sąd Najwyższy + konstytucja - kpc\n",
      "Trybunał Konstytucyjny 0.6049972176551819\n",
      "Trybunał 0.569770336151123\n",
      "Sad Najwyższy 0.5661792159080505\n",
      "Trybunał Sprawiedliwości 0.5492091774940491\n",
      "„Sąd Najwyższy 0.5413045883178711\n",
      "\n",
      "pasażer + kobieta - mężczyzna\n",
      "pasażerka 0.7359088659286499\n",
      "piesza 0.7087298631668091\n",
      "kierująca 0.6480820178985596\n",
      "poszkodowana 0.6317869424819946\n",
      "kierująca pojazdem 0.6270766854286194\n",
      "\n",
      "samochód + rzeka - droga\n",
      "samochód marki 0.6507917642593384\n",
      "pojazd marki 0.6404251456260681\n",
      "pojazd m-ki 0.6116307973861694\n",
      "Samochód marki 0.5996606349945068\n",
      "kosiarkę 0.5994999408721924\n",
      "\n"
     ]
    }
   ],
   "source": [
    "operations = (\n",
    "    (['Sąd Najwyższy', 'konstytucja'], ['kpc']),\n",
    "    (['pasażer', 'kobieta'], ['mężczyzna']),\n",
    "    (['samochód', 'rzeka'], ['droga'])\n",
    ")\n",
    "\n",
    "for positive_words, negative_words in operations:\n",
    "    print(' + '.join(positive_words) + ' - '.join([''] + negative_words))\n",
    "    for phrase, score in model.wv.most_similar(positive=positive_words, negative=negative_words)[:5]:\n",
    "        print(phrase, score)\n",
    "    print()"
   ]
  },
  {
   "cell_type": "code",
   "execution_count": 23,
   "metadata": {},
   "outputs": [
    {
     "data": {
      "image/png": "[encoded data removed]",
      "text/plain": [
       "<matplotlib.figure.Figure at 0x19a97fa3978>"
      ]
     },
     "metadata": {},
     "output_type": "display_data"
    }
   ],
   "source": [
    "vector_phrases = (\n",
    "    'szkoda',\n",
    "    'strata',\n",
    "    'uszczerbek',\n",
    "    'szkoda majątkowa',\n",
    "#     'uszczerbek na zdrowiu',     not in vocabulary\n",
    "    'krzywda',\n",
    "    'niesprawiedliwość',\n",
    "    'nieszczęście'\n",
    ")\n",
    "\n",
    "X = [model.wv[phrase] for phrase in vector_phrases]\n",
    "tsne = TSNE(n_components=2)\n",
    "X_tsne = tsne.fit_transform(X)\n",
    "for (label, x, y) in zip(vector_phrases, X_tsne[:, 0], X_tsne[:, 1]):\n",
    "    plt.scatter(x, y)\n",
    "    plt.annotate(label,\n",
    "                 xy=(x, y),\n",
    "                 xytext=(5, 2),\n",
    "                 textcoords='offset points',\n",
    "                 ha='right',\n",
    "                 va='bottom')\n",
    "\n",
    "plt.show()"
   ]
  }
 ],
 "metadata": {
  "kernelspec": {
   "display_name": "Python 3",
   "language": "python",
   "name": "python3"
  },
  "language_info": {
   "codemirror_mode": {
    "name": "ipython",
    "version": 3
   },
   "file_extension": ".py",
   "mimetype": "text/x-python",
   "name": "python",
   "nbconvert_exporter": "python",
   "pygments_lexer": "ipython3",
   "version": "3.6.3"
  }
 },
 "nbformat": 4,
 "nbformat_minor": 2
}
