{
 "cells": [
  {
   "cell_type": "code",
   "execution_count": 42,
   "metadata": {
    "collapsed": true
   },
   "outputs": [],
   "source": [
    "import glob\n",
    "import itertools\n",
    "import json\n",
    "import os\n",
    "import re\n",
    "\n",
    "import dateutil.parser\n",
    "import matplotlib.pyplot as plt\n",
    "from elasticsearch import Elasticsearch, TransportError\n",
    "from elasticsearch.helpers import bulk"
   ]
  },
  {
   "cell_type": "code",
   "execution_count": 43,
   "metadata": {
    "collapsed": true
   },
   "outputs": [],
   "source": [
    "YEAR = 2009\n",
    "PATH = 'F:\\\\saos\\\\data\\\\json\\\\judgments-*'\n",
    "FILENAMES_FOR_YEAR = f'judgments_from_{YEAR}.json'\n",
    "ELASTICSEARCH_HOST = 'localhost:9200'\n",
    "QUERY_WORD = 'szkoda'\n",
    "QUERY_PHRASE = 'trwały uszczerbek na zdrowiu'\n",
    "DOC_TYPE = 'doc'"
   ]
  },
  {
   "cell_type": "code",
   "execution_count": 44,
   "metadata": {
    "collapsed": true
   },
   "outputs": [],
   "source": [
    "year_pattern = str(YEAR) + '-\\d{2}-\\d{2}'\n",
    "\n",
    "\n",
    "def get_filenames_with_judgments_for_year(judgment_filenames):\n",
    "    with open(FILENAMES_FOR_YEAR, 'w') as file:\n",
    "        filenames_for_year = filter(contains_judgments_from_year, judgment_filenames)\n",
    "        json.dump(list(filenames_for_year), file)\n",
    "\n",
    "\n",
    "def contains_judgments_from_year(filename):\n",
    "    return any(re.match(year_pattern, item['judgmentDate']) for item in get_judgments(filename))\n",
    "\n",
    "\n",
    "def get_judgments(filename):\n",
    "    with open(filename, encoding='utf-8') as file:\n",
    "        content = json.load(file)\n",
    "    return (item for item in content['items'] if re.match(year_pattern, item['judgmentDate']))"
   ]
  },
  {
   "cell_type": "code",
   "execution_count": 45,
   "metadata": {
    "collapsed": true
   },
   "outputs": [],
   "source": [
    "def create_index(client, index_name):\n",
    "    analyzer_name = 'polish_analyzer'\n",
    "    analyzer = {\n",
    "        analyzer_name: {\n",
    "            'type': 'custom',\n",
    "            'tokenizer': 'standard',\n",
    "            'filter': ['morfologik_stem']\n",
    "        }\n",
    "    }\n",
    "    create_index_body = {\n",
    "        'settings': {\n",
    "            'analysis': {\n",
    "                'analyzer': analyzer\n",
    "            }\n",
    "        },\n",
    "        'mappings': {\n",
    "            DOC_TYPE: {\n",
    "                'properties': {\n",
    "                    'judgment_text': {'type': 'text', 'analyzer': analyzer_name},\n",
    "                    'judgment_date': {'type': 'date'},\n",
    "                    'case_number': {'type': 'keyword'},\n",
    "                    'judges': {'type': 'keyword'}\n",
    "                }\n",
    "            }\n",
    "        }\n",
    "    }\n",
    "    try:\n",
    "        client.indices.create(\n",
    "            index=index_name,\n",
    "            body=create_index_body,\n",
    "        )\n",
    "    except TransportError as e:\n",
    "        # ignore already existing index\n",
    "        if e.error == 'index_already_exists_exception':\n",
    "            pass\n",
    "        else:\n",
    "            raise\n",
    "\n",
    "\n",
    "def create_actions(judgments):\n",
    "    for judgment in judgments:\n",
    "        yield {\n",
    "            'judgment_text': judgment['textContent'],\n",
    "            'judgment_date': judgment['judgmentDate'],\n",
    "            'case_number': [court_case['caseNumber'] for court_case in judgment['courtCases']],\n",
    "            'judges': [judge['name'] for judge in judgment['judges']]\n",
    "        }\n",
    "\n",
    "\n",
    "def bulk_load(client, index_name, judgments):\n",
    "    result = bulk(client, create_actions(judgments), index=index_name, doc_type=DOC_TYPE)\n",
    "    print(result)"
   ]
  },
  {
   "cell_type": "code",
   "execution_count": 46,
   "metadata": {
    "collapsed": true
   },
   "outputs": [],
   "source": [
    "judgment_filenames = glob.glob(PATH)\n",
    "\n",
    "if not os.path.isfile(FILENAMES_FOR_YEAR):\n",
    "    get_filenames_with_judgments_for_year(judgment_filenames)\n",
    "\n",
    "with open(FILENAMES_FOR_YEAR) as file:\n",
    "    filenames_with_judgments_for_year = json.load(file)\n",
    "    judgments = itertools.chain.from_iterable(map(get_judgments, filenames_with_judgments_for_year))"
   ]
  },
  {
   "cell_type": "code",
   "execution_count": 47,
   "metadata": {
    "collapsed": true
   },
   "outputs": [],
   "source": [
    "elastic = Elasticsearch(ELASTICSEARCH_HOST)\n",
    "index_name = 'judgments'"
   ]
  },
  {
   "cell_type": "code",
   "execution_count": 48,
   "metadata": {
    "collapsed": true
   },
   "outputs": [],
   "source": [
    "# create_index(elastic, index_name)\n",
    "# bulk_load(elastic, index_name, judgments)\n",
    "# elastic.indices.delete(index=index_name, ignore=[400, 404])"
   ]
  },
  {
   "cell_type": "code",
   "execution_count": 49,
   "metadata": {
    "scrolled": false
   },
   "outputs": [
    {
     "name": "stdout",
     "output_type": "stream",
     "text": [
      "Liczba orzeczeń, w których występuje słowo \"szkoda\"\n"
     ]
    },
    {
     "data": {
      "text/plain": [
       "733"
      ]
     },
     "execution_count": 49,
     "metadata": {},
     "output_type": "execute_result"
    }
   ],
   "source": [
    "print(f'Liczba orzeczeń, w których występuje słowo \"{QUERY_WORD}\"')\n",
    "elastic.search(index_name, DOC_TYPE, {'query': {'match': {'judgment_text': QUERY_WORD}}})['hits']['total']"
   ]
  },
  {
   "cell_type": "code",
   "execution_count": 50,
   "metadata": {},
   "outputs": [
    {
     "name": "stdout",
     "output_type": "stream",
     "text": [
      "Liczba orzeczeń, w których występuje fraza \"trwały uszczerbek na zdrowiu\" w dowolnej formie fleksyjnej\n"
     ]
    },
    {
     "data": {
      "text/plain": [
       "6"
      ]
     },
     "execution_count": 50,
     "metadata": {},
     "output_type": "execute_result"
    }
   ],
   "source": [
    "print(f'Liczba orzeczeń, w których występuje fraza \"{QUERY_PHRASE}\" w dowolnej formie fleksyjnej')\n",
    "res = elastic.search(index_name, DOC_TYPE, {'query': {'match_phrase': {'judgment_text': QUERY_PHRASE}}})\n",
    "res['hits']['total']"
   ]
  },
  {
   "cell_type": "code",
   "execution_count": 51,
   "metadata": {},
   "outputs": [
    {
     "name": "stdout",
     "output_type": "stream",
     "text": [
      "Liczba orzeczeń, w których występuje fraza \"trwały uszczerbek na zdrowiu\" w dowolnej formie fleksyjnej z \n",
      "uwzględnieniem możliwości wystąpienia maksymalnie 2 dodatkowych słów pomiędzy dowolnymi elementami frazy\n"
     ]
    },
    {
     "data": {
      "text/plain": [
       "7"
      ]
     },
     "execution_count": 51,
     "metadata": {},
     "output_type": "execute_result"
    }
   ],
   "source": [
    "print(f'''Liczba orzeczeń, w których występuje fraza \"{QUERY_PHRASE}\" w dowolnej formie fleksyjnej z \n",
    "uwzględnieniem możliwości wystąpienia maksymalnie 2 dodatkowych słów pomiędzy dowolnymi elementami frazy''')\n",
    "query = {\n",
    "    'query': {'match_phrase': {'judgment_text': {'query': QUERY_PHRASE, 'slop': 2}}}\n",
    "}\n",
    "res2 = elastic.search(index_name, DOC_TYPE, query)\n",
    "res2['hits']['total']"
   ]
  },
  {
   "cell_type": "code",
   "execution_count": 52,
   "metadata": {},
   "outputs": [
    {
     "name": "stdout",
     "output_type": "stream",
     "text": [
      "Sędziowie z największą liczbą orzeczeń wydanych w roku 2009\n",
      "Andrzej Niwicki -> 234\n",
      "Sylwester Kuchnio -> 225\n",
      "Barbara Bettman -> 221\n"
     ]
    }
   ],
   "source": [
    "agg_query = {\n",
    "    'size': 0,\n",
    "    'aggregations': {\n",
    "        'judges': {\n",
    "            'terms': {\n",
    "                'field': 'judges'\n",
    "            }\n",
    "        }\n",
    "    }\n",
    "}\n",
    "judges = elastic.search(index_name, DOC_TYPE, agg_query)['aggregations']['judges']['buckets']  # sorted by doc_count desc by default\n",
    "print(f'Sędziowie z największą liczbą orzeczeń wydanych w roku {YEAR}')\n",
    "for judge in judges[:3]:\n",
    "    print(judge['key'], '->', judge['doc_count'])"
   ]
  },
  {
   "cell_type": "code",
   "execution_count": 53,
   "metadata": {
    "scrolled": true
   },
   "outputs": [
    {
     "data": {
      "image/png": "[encoded data removed]",
      "text/plain": [
       "<matplotlib.figure.Figure at 0x24d73a90a20>"
      ]
     },
     "metadata": {},
     "output_type": "display_data"
    }
   ],
   "source": [
    "month_agg = {\n",
    "    'size': 0,\n",
    "    'aggs': {\n",
    "        'months': {\n",
    "            'date_histogram': {\n",
    "                'field': 'judgment_date',\n",
    "                'interval': 'month'\n",
    "            }\n",
    "        }\n",
    "    }\n",
    "}\n",
    "months_agg_result = elastic.search(index_name, DOC_TYPE, month_agg)['aggregations']['months']['buckets']\n",
    "counts = [item['doc_count'] for item in months_agg_result]\n",
    "dates = [dateutil.parser.parse(item['key_as_string']) for item in months_agg_result]\n",
    "months = [date.strftime('%b') for date in dates]\n",
    "plt.bar(dates, counts, width=20, tick_label=months)\n",
    "plt.xlabel('Month')\n",
    "plt.ylabel('Number of judgments')\n",
    "plt.title(f'Number of judgments in every month of year {YEAR}')\n",
    "plt.savefig('histogram.png')\n",
    "plt.show()"
   ]
  },
  {
   "cell_type": "code",
   "execution_count": 54,
   "metadata": {
    "scrolled": true
   },
   "outputs": [
    {
     "name": "stdout",
     "output_type": "stream",
     "text": [
      "Jan -> 398\n",
      "Feb -> 325\n",
      "Mar -> 405\n",
      "Apr -> 399\n",
      "May -> 357\n",
      "Jun -> 355\n",
      "Jul -> 426\n",
      "Aug -> 232\n",
      "Sep -> 377\n",
      "Oct -> 401\n",
      "Nov -> 420\n",
      "Dec -> 442\n"
     ]
    }
   ],
   "source": [
    "for date, count in zip(months, counts):\n",
    "    print(date, '->', count)"
   ]
  }
 ],
 "metadata": {
  "kernelspec": {
   "display_name": "Python 3",
   "language": "python",
   "name": "python3"
  },
  "language_info": {
   "codemirror_mode": {
    "name": "ipython",
    "version": 3
   },
   "file_extension": ".py",
   "mimetype": "text/x-python",
   "name": "python",
   "nbconvert_exporter": "python",
   "pygments_lexer": "ipython3",
   "version": "3.6.3"
  }
 },
 "nbformat": 4,
 "nbformat_minor": 2
}
