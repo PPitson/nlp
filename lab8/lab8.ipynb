{
 "cells": [
  {
   "cell_type": "code",
   "execution_count": 18,
   "metadata": {
    "collapsed": true
   },
   "outputs": [],
   "source": [
    "import functools\n",
    "import glob\n",
    "import itertools\n",
    "import json\n",
    "import operator\n",
    "import os\n",
    "import re\n",
    "import xml.etree.ElementTree as ET\n",
    "from collections import Counter, namedtuple, defaultdict\n",
    "\n",
    "import matplotlib.pyplot as plt\n",
    "import numpy as np\n",
    "import requests\n",
    "from bs4 import BeautifulSoup\n",
    "from pylab import rcParams\n",
    "\n",
    "rcParams['figure.figsize'] = 10,20"
   ]
  },
  {
   "cell_type": "code",
   "execution_count": 19,
   "metadata": {
    "collapsed": true
   },
   "outputs": [],
   "source": [
    "def create_dir_if_doesnt_exist(directory):\n",
    "    if not os.path.exists(directory):\n",
    "        os.makedirs(directory)\n",
    "\n",
    "\n",
    "YEAR = 2009\n",
    "PATH = 'F:\\\\saos\\\\data\\\\json\\\\judgments-*'\n",
    "HELPERS_DIR = 'helpers'\n",
    "API_RESULTS_DIR = 'api_results'\n",
    "\n",
    "create_dir_if_doesnt_exist(HELPERS_DIR)\n",
    "create_dir_if_doesnt_exist(API_RESULTS_DIR)\n",
    "\n",
    "FILENAMES_FOR_YEAR = os.path.join(HELPERS_DIR, f'judgments_from_{YEAR}.json')\n",
    "NUMBER_OF_JUDGMENTS = 100\n",
    "NER_API_BASE_URL = 'http://ws.clarin-pl.eu/nlprest2/base'\n",
    "NER_API_LPMN_PARAMETER = 'any2txt|wcrft2|liner2({\"model\":\"n82\"})'"
   ]
  },
  {
   "cell_type": "code",
   "execution_count": 20,
   "metadata": {
    "collapsed": true
   },
   "outputs": [],
   "source": [
    "year_pattern = str(YEAR) + '-\\d{2}-\\d{2}'\n",
    "\n",
    "\n",
    "def get_filenames_with_judgments_for_year(judgment_filenames):\n",
    "    with open(FILENAMES_FOR_YEAR, 'w') as file:\n",
    "        filenames_for_year = filter(contains_judgments_from_year, judgment_filenames)\n",
    "        json.dump(list(filenames_for_year), file)\n",
    "\n",
    "\n",
    "def contains_judgments_from_year(filename):\n",
    "    return any(re.match(year_pattern, item['judgmentDate']) for item in get_judgments(filename))\n",
    "\n",
    "\n",
    "def get_judgments(filename):\n",
    "    with open(filename, encoding='utf-8') as file:\n",
    "        content = json.load(file)\n",
    "    judgments = (item for item in content['items'] if re.match(year_pattern, item['judgmentDate']))\n",
    "    return sorted(judgments, key=operator.itemgetter('judgmentDate'))"
   ]
  },
  {
   "cell_type": "code",
   "execution_count": 21,
   "metadata": {
    "collapsed": true
   },
   "outputs": [],
   "source": [
    "all_judgment_filenames = glob.glob(PATH)\n",
    "\n",
    "if not os.path.isfile(FILENAMES_FOR_YEAR):\n",
    "    get_filenames_with_judgments_for_year(all_judgment_filenames)\n",
    "\n",
    "with open(FILENAMES_FOR_YEAR) as file:\n",
    "    filenames_with_judgments_for_year = json.load(file)\n",
    "    judgments = list(itertools.chain.from_iterable(map(get_judgments, filenames_with_judgments_for_year)))"
   ]
  },
  {
   "cell_type": "code",
   "execution_count": 22,
   "metadata": {
    "collapsed": true
   },
   "outputs": [],
   "source": [
    "def clear_html_from_text(text):\n",
    "    return BeautifulSoup(text, 'lxml').get_text()\n",
    "\n",
    "judgment_texts = [clear_html_from_text(judgment['textContent']) for judgment in judgments[:NUMBER_OF_JUDGMENTS]]"
   ]
  },
  {
   "cell_type": "code",
   "execution_count": 23,
   "metadata": {},
   "outputs": [
    {
     "data": {
      "text/plain": [
       "100"
      ]
     },
     "execution_count": 23,
     "metadata": {},
     "output_type": "execute_result"
    }
   ],
   "source": [
    "len(judgment_texts)"
   ]
  },
  {
   "cell_type": "code",
   "execution_count": 24,
   "metadata": {
    "collapsed": true,
    "scrolled": true
   },
   "outputs": [],
   "source": [
    "def save_api_response(index, text):\n",
    "    data = {'lpmn': NER_API_LPMN_PARAMETER, 'user': 'user', 'text': text}\n",
    "    resp = requests.post(f'{NER_API_BASE_URL}/process', json=data)\n",
    "    print(index, resp)\n",
    "    with open(os.path.join(API_RESULTS_DIR, f'{index}.xml'), 'w', encoding='utf-8') as file:\n",
    "        file.write(resp.text)\n",
    "\n",
    "if not os.path.exists(API_RESULTS_DIR):\n",
    "    for index, judgment_text in enumerate(judgment_texts):\n",
    "        save_api_response(index, judgment_text)"
   ]
  },
  {
   "cell_type": "code",
   "execution_count": 25,
   "metadata": {
    "collapsed": true
   },
   "outputs": [],
   "source": [
    "def file_number(filename):\n",
    "    start = len(API_RESULTS_DIR) + 1\n",
    "    end = len(filename) - len('.xml')\n",
    "    return int(filename[start:end])\n",
    "\n",
    "api_results_filenames = list(sorted(glob.glob(f'{API_RESULTS_DIR}\\\\*.xml'), key=file_number))"
   ]
  },
  {
   "cell_type": "code",
   "execution_count": 26,
   "metadata": {
    "collapsed": true
   },
   "outputs": [],
   "source": [
    "from typing import List\n",
    "\n",
    "Token = namedtuple('Token', ['original_form', 'base_form'])\n",
    "Expression = namedtuple('Expression', 'original_form base_form full_category_name')\n",
    "\n",
    "class Expression(namedtuple('Expression', 'original_form base_form full_category_name')):\n",
    "    \n",
    "    @property\n",
    "    def general_category_name(self):\n",
    "        index = self.full_category_name.find('_', self.full_category_name.find('_') + 1)\n",
    "        return self.full_category_name[:index]\n",
    "    \n",
    "    def __eq__(self, other):\n",
    "        return isinstance(other, Expression) and self.base_form == other.base_form and self.full_category_name == other.full_category_name\n",
    "    \n",
    "    def __hash__(self):\n",
    "        return hash(self.base_form) + hash(self.full_category_name)\n",
    "    \n",
    "\n",
    "def create_expression(expression_tokens, category):\n",
    "    return Expression(\n",
    "        original_form=' '.join(token.original_form for token in expression_tokens),\n",
    "        base_form=' '.join(token.base_form for token in expression_tokens),\n",
    "        full_category_name=category\n",
    "    )\n",
    "\n",
    "\n",
    "def get_expressions(filename) -> List[Expression]:\n",
    "    tree = ET.parse(filename)\n",
    "    root = tree.getroot()\n",
    "    expressions = []\n",
    "    for chunk in root.iter('chunk'):\n",
    "        expression_tokens = []\n",
    "        current_category = None\n",
    "        category_tokens = defaultdict(lambda: None)\n",
    "        values = defaultdict(int)\n",
    "        for token in chunk.iter('tok'):\n",
    "            original_form = token.find('orth').text\n",
    "            base_form = token.find('lex').find('base').text\n",
    "            for item in token.iter('ann'):\n",
    "                category_name = item.get('chan')\n",
    "                value = int(item.text)\n",
    "                if value > 0:\n",
    "                    if category_tokens[category_name] is None:\n",
    "                        category_tokens[category_name] = []\n",
    "                        values[category_name] = value\n",
    "                    if value > values[category_name]:\n",
    "                        expressions.append(create_expression(category_tokens[category_name], category_name))\n",
    "                        category_tokens[category_name] = []\n",
    "                        values[category_name] = value\n",
    "                    category_tokens[category_name].append(Token(original_form, base_form))\n",
    "                else:\n",
    "                    if category_tokens[category_name] is not None:\n",
    "                        expressions.append(create_expression(category_tokens[category_name], category_name))\n",
    "                        category_tokens[category_name] = None\n",
    "        for category_name, tokens in category_tokens.items():\n",
    "            if tokens:\n",
    "                expressions.append(create_expression(tokens, category_name))\n",
    "    return expressions"
   ]
  },
  {
   "cell_type": "code",
   "execution_count": 27,
   "metadata": {},
   "outputs": [
    {
     "data": {
      "text/plain": [
       "8084"
      ]
     },
     "execution_count": 27,
     "metadata": {},
     "output_type": "execute_result"
    }
   ],
   "source": [
    "expressions = functools.reduce(operator.add, map(get_expressions, api_results_filenames))\n",
    "len(expressions)"
   ]
  },
  {
   "cell_type": "code",
   "execution_count": 28,
   "metadata": {
    "scrolled": true
   },
   "outputs": [
    {
     "data": {
      "text/plain": [
       "Counter({'nam_adj_city': 1,\n",
       "         'nam_adj_country': 13,\n",
       "         'nam_adj_other': 9,\n",
       "         'nam_adj_person': 1,\n",
       "         'nam_eve_human': 12,\n",
       "         'nam_eve_human_sport': 20,\n",
       "         'nam_fac_goe': 37,\n",
       "         'nam_fac_road': 219,\n",
       "         'nam_liv_god': 4,\n",
       "         'nam_liv_person': 1740,\n",
       "         'nam_loc_country_region': 1,\n",
       "         'nam_loc_gpe_admin1': 8,\n",
       "         'nam_loc_gpe_admin2': 4,\n",
       "         'nam_loc_gpe_admin3': 15,\n",
       "         'nam_loc_gpe_city': 757,\n",
       "         'nam_loc_gpe_country': 69,\n",
       "         'nam_loc_historical_region': 1,\n",
       "         'nam_loc_hydronym_river': 2,\n",
       "         'nam_loc_land_continent': 2,\n",
       "         'nam_loc_other': 1,\n",
       "         'nam_num_house': 176,\n",
       "         'nam_num_phone': 1,\n",
       "         'nam_org_company': 484,\n",
       "         'nam_org_group_team': 51,\n",
       "         'nam_org_institution': 2794,\n",
       "         'nam_org_nation': 7,\n",
       "         'nam_org_organization': 341,\n",
       "         'nam_org_political_party': 6,\n",
       "         'nam_oth_currency': 431,\n",
       "         'nam_oth_other': 1,\n",
       "         'nam_oth_position': 1,\n",
       "         'nam_oth_tech': 19,\n",
       "         'nam_oth_www': 3,\n",
       "         'nam_pro_brand': 46,\n",
       "         'nam_pro_media_periodic': 415,\n",
       "         'nam_pro_media_tv': 5,\n",
       "         'nam_pro_media_web': 2,\n",
       "         'nam_pro_model_car': 1,\n",
       "         'nam_pro_software': 3,\n",
       "         'nam_pro_title': 16,\n",
       "         'nam_pro_title_album': 1,\n",
       "         'nam_pro_title_document': 363,\n",
       "         'nam_pro_title_tv': 1})"
      ]
     },
     "execution_count": 28,
     "metadata": {},
     "output_type": "execute_result"
    }
   ],
   "source": [
    "categories_counter = Counter(map(operator.attrgetter('full_category_name'), expressions))\n",
    "categories_counter"
   ]
  },
  {
   "cell_type": "code",
   "execution_count": 29,
   "metadata": {
    "scrolled": false
   },
   "outputs": [
    {
     "data": {
      "text/plain": [
       "defaultdict(int,\n",
       "            {'nam_adj': 24,\n",
       "             'nam_eve': 32,\n",
       "             'nam_fac': 256,\n",
       "             'nam_liv': 1744,\n",
       "             'nam_loc': 860,\n",
       "             'nam_num': 177,\n",
       "             'nam_org': 3683,\n",
       "             'nam_oth': 455,\n",
       "             'nam_pro': 853})"
      ]
     },
     "execution_count": 29,
     "metadata": {},
     "output_type": "execute_result"
    }
   ],
   "source": [
    "general_categories_counter = defaultdict(int)\n",
    "for category_name, count in categories_counter.items():\n",
    "    index = category_name.find('_', category_name.find('_') + 1)\n",
    "    general_category_name = category_name[:index]\n",
    "    general_categories_counter[general_category_name] += count\n",
    "general_categories_counter"
   ]
  },
  {
   "cell_type": "code",
   "execution_count": 30,
   "metadata": {
    "collapsed": true
   },
   "outputs": [],
   "source": [
    "def plot_counts(counter):\n",
    "    counter = dict(sorted(counter.items(), key=operator.itemgetter(1), reverse=True))\n",
    "    y_pos = np.arange(len(counter))\n",
    "    counts = list(counter.values())\n",
    "\n",
    "    fig, ax = plt.subplots()\n",
    "    ax.barh(y_pos, counts, align='center', color='blue')\n",
    "    ax.set_yticks(y_pos)\n",
    "    ax.set_yticklabels(list(counter.keys()))\n",
    "    ax.invert_yaxis()  # labels read top-to-bottom\n",
    "    ax.set_xlabel('Count')\n",
    "    ax.set_xscale(\"log\", nonposx='clip')\n",
    "    ax.set_title('Categories counts')\n",
    "\n",
    "    plt.show()"
   ]
  },
  {
   "cell_type": "code",
   "execution_count": 31,
   "metadata": {},
   "outputs": [
    {
     "data": {
      "image/png": "[encoded data removed]",
      "text/plain": [
       "<matplotlib.figure.Figure at 0x17ebfb3ccf8>"
      ]
     },
     "metadata": {},
     "output_type": "display_data"
    }
   ],
   "source": [
    "plot_counts(categories_counter)"
   ]
  },
  {
   "cell_type": "code",
   "execution_count": 32,
   "metadata": {},
   "outputs": [
    {
     "data": {
      "image/png": "[encoded data removed]",
      "text/plain": [
       "<matplotlib.figure.Figure at 0x17eb3737f60>"
      ]
     },
     "metadata": {},
     "output_type": "display_data"
    }
   ],
   "source": [
    "plot_counts(general_categories_counter)"
   ]
  },
  {
   "cell_type": "code",
   "execution_count": 33,
   "metadata": {
    "scrolled": false
   },
   "outputs": [
    {
     "name": "stdout",
     "output_type": "stream",
     "text": [
      "425 Expression(original_form='Sąd Najwyższy', base_form='sąd najwyższy', full_category_name='nam_org_institution')\n",
      "422 Expression(original_form='Zamawiający', base_form='zamawiać', full_category_name='nam_liv_person')\n",
      "385 Expression(original_form='zł', base_form='złoty', full_category_name='nam_oth_currency')\n",
      "324 Expression(original_form='Trybunału Konstytucyjnego', base_form='trybunał konstytucyjny', full_category_name='nam_org_institution')\n",
      "274 Expression(original_form='Sądu Okręgowego', base_form='sąd okręgowy', full_category_name='nam_org_institution')\n",
      "263 Expression(original_form='Warszawie', base_form='Warszawa', full_category_name='nam_loc_gpe_city')\n",
      "248 Expression(original_form='Dz . U .', base_form='dziennik . u .', full_category_name='nam_pro_media_periodic')\n",
      "190 Expression(original_form='Sąd Apelacyjny', base_form='sąd apelacyjny', full_category_name='nam_org_institution')\n",
      "165 Expression(original_form='Odwołującego', base_form='odwoływać', full_category_name='nam_liv_person')\n",
      "121 Expression(original_form='Sądu Rejonowego', base_form='sąd rejonowy', full_category_name='nam_org_institution')\n",
      "110 Expression(original_form='TK', base_form='TK', full_category_name='nam_org_institution')\n",
      "105 Expression(original_form='Krajowa Izba Odwoławcza', base_form='krajowy izba odwoławczy', full_category_name='nam_org_institution')\n",
      "102 Expression(original_form='Urzędu Zamówień Publicznych', base_form='urząd zamówienie publiczny', full_category_name='nam_org_institution')\n",
      "99 Expression(original_form='Najwyższy', base_form='najwyższy', full_category_name='nam_liv_person')\n",
      "94 Expression(original_form='Prawo zamówień publicznych', base_form='prawo zamówienie publiczny', full_category_name='nam_pro_title_document')\n",
      "91 Expression(original_form='Dz . U .', base_form='Dzieje_(Apostolskie) . u .', full_category_name='nam_pro_media_periodic')\n",
      "86 Expression(original_form='Skarbowi Państwa', base_form='skarb państwo', full_category_name='nam_org_institution')\n",
      "55 Expression(original_form='XXX', base_form='XXX', full_category_name='nam_org_organization')\n",
      "52 Expression(original_form='Wykonawców', base_form='wykonawca', full_category_name='nam_liv_person')\n",
      "48 Expression(original_form='Prezesa Urzędu Zamówień Publicznych', base_form='prezes urząd zamówienie publiczny', full_category_name='nam_org_institution')\n",
      "42 Expression(original_form='Karta Nauczyciela', base_form='kart nauczyciel', full_category_name='nam_liv_person')\n",
      "42 Expression(original_form='Ministra Finansów', base_form='minister finanse', full_category_name='nam_org_institution')\n",
      "38 Expression(original_form='Polska', base_form='Polska', full_category_name='nam_loc_gpe_country')\n",
      "34 Expression(original_form='Poznaniu', base_form='Poznań', full_category_name='nam_loc_gpe_city')\n",
      "32 Expression(original_form='Wrocław', base_form='Wrocław', full_category_name='nam_loc_gpe_city')\n",
      "32 Expression(original_form='Krakowie', base_form='Krak', full_category_name='nam_loc_gpe_city')\n",
      "31 Expression(original_form='Protestującego', base_form='protestujący', full_category_name='nam_liv_person')\n",
      "28 Expression(original_form='Prezesa Rady Ministrów', base_form='prezes rad minister', full_category_name='nam_org_institution')\n",
      "27 Expression(original_form='Unii Europejskiej', base_form='unia europejski', full_category_name='nam_org_organization')\n",
      "26 Expression(original_form='Izby', base_form='izba', full_category_name='nam_loc_gpe_city')\n",
      "26 Expression(original_form='VAT', base_form='VAT', full_category_name='nam_org_institution')\n",
      "25 Expression(original_form='PLN', base_form='nowy_polski_złoty', full_category_name='nam_oth_currency')\n",
      "24 Expression(original_form='Katowicach', base_form='Katowice', full_category_name='nam_loc_gpe_city')\n",
      "23 Expression(original_form='Al', base_form='Al', full_category_name='nam_liv_person')\n",
      "21 Expression(original_form='OSNP', base_form='OSNP', full_category_name='nam_org_organization')\n",
      "20 Expression(original_form='euro', base_form='euro', full_category_name='nam_oth_currency')\n",
      "20 Expression(original_form='Sądu Okręgowego - Sądu Pracy i Ubezpieczeń Społecznych', base_form='sąd okręgowy - sąd praca i ubezpieczenie społeczny', full_category_name='nam_org_institution')\n",
      "20 Expression(original_form='Jadwiga A .', base_form='Jadwiga a .', full_category_name='nam_liv_person')\n",
      "20 Expression(original_form='Szczecinie', base_form='Szczecin', full_category_name='nam_loc_gpe_city')\n",
      "19 Expression(original_form='Izbie Cywilnej', base_form='izba cywilny', full_category_name='nam_org_institution')\n",
      "18 Expression(original_form='Bielsku - Białej', base_form='bielski - Biała', full_category_name='nam_loc_gpe_city')\n",
      "18 Expression(original_form='Tarnowie', base_form='Tarnowo', full_category_name='nam_loc_gpe_city')\n",
      "18 Expression(original_form='Specyfikacji Istotnych Warunków Zamówienia', base_form='specyfikacja istotny warunek zamówienie', full_category_name='nam_org_institution')\n",
      "18 Expression(original_form='Lublinie', base_form='Lublin', full_category_name='nam_loc_gpe_city')\n",
      "17 Expression(original_form='Funduszu Ubezpieczeń Społecznych', base_form='fundusz ubezpieczenie społeczny', full_category_name='nam_org_institution')\n",
      "17 Expression(original_form='IMIENIU RZECZYPOSPOLITEJ POLSKIEJ Dnia', base_form='imienie rzeczpospolita polski dzień', full_category_name='nam_org_institution')\n",
      "17 Expression(original_form='Rzeczypospolitej Polskiej', base_form='rzeczpospolita polski', full_category_name='nam_loc_gpe_country')\n",
      "17 Expression(original_form='Prokuratora Generalnego', base_form='prokurator generalny', full_category_name='nam_org_institution')\n",
      "17 Expression(original_form='PZPN', base_form='PZPN', full_category_name='nam_org_organization')\n",
      "16 Expression(original_form='Dzienniku Urzędowym', base_form='dziennik urzędowy', full_category_name='nam_pro_media_periodic')\n",
      "16 Expression(original_form='KIO', base_form='KIO', full_category_name='nam_org_institution')\n",
      "15 Expression(original_form='1', base_form='1', full_category_name='nam_num_house')\n",
      "15 Expression(original_form='Ordynacja podatkowa', base_form='ordynacja podatkowy', full_category_name='nam_pro_title_document')\n",
      "15 Expression(original_form='Petrol - Hawen', base_form='Petrol - Hawen', full_category_name='nam_liv_person')\n",
      "15 Expression(original_form='Sądu Dyscyplinarnego', base_form='sąd dyscyplinarny', full_category_name='nam_org_institution')\n",
      "14 Expression(original_form='Zakładu Ubezpieczeń Społecznych', base_form='zakład ubezpieczenie społeczny', full_category_name='nam_org_institution')\n",
      "13 Expression(original_form='Jadwigi K .', base_form='Jadwiga k .', full_category_name='nam_liv_person')\n",
      "13 Expression(original_form='Spółka', base_form='spółka', full_category_name='nam_liv_person')\n",
      "12 Expression(original_form='Konstytucji Rzeczypospolitej Polskiej', base_form='konstytucja rzeczpospolita polski', full_category_name='nam_pro_title_document')\n",
      "12 Expression(original_form='Telefonia Dialog S . A .', base_form='telefonia dialog sekunda . a .', full_category_name='nam_org_company')\n",
      "11 Expression(original_form='Sąd', base_form='sąd', full_category_name='nam_org_institution')\n",
      "11 Expression(original_form='rozporządzenia Rady Ministrów', base_form='rozporządzenie rad minister', full_category_name='nam_pro_title_document')\n",
      "11 Expression(original_form='Dz . U', base_form='dziennik . u', full_category_name='nam_pro_media_periodic')\n",
      "11 Expression(original_form='polskiego', base_form='polski', full_category_name='nam_adj_country')\n",
      "11 Expression(original_form='Wydziału Dyscypliny', base_form='wydział dyscyplina', full_category_name='nam_org_institution')\n",
      "11 Expression(original_form='Zakładach Przemysłu Bawełnianego', base_form='zakład przemysł bawełniany', full_category_name='nam_org_company')\n",
      "11 Expression(original_form='MET - ROLL ” Sp . z o .', base_form='meta - roll ” spółka . z o .', full_category_name='nam_org_company')\n",
      "11 Expression(original_form='Bytom', base_form='Bytom', full_category_name='nam_loc_gpe_city')\n",
      "10 Expression(original_form='74', base_form='74', full_category_name='nam_num_house')\n",
      "10 Expression(original_form='ustawy z dnia 1 sierpnia 1997 r . o Trybunale Konstytucyjnym', base_form='ustawa z dzień 1 sierpień 1997 r . o trybunał konstytucyjny', full_category_name='nam_pro_title_document')\n",
      "10 Expression(original_form='Prawo zamówień publicznych oraz niektórych innych ustaw', base_form='prawo zamówienie publiczny oraz niektóry inny ustawa', full_category_name='nam_pro_title_document')\n",
      "10 Expression(original_form='Rady Ministrów', base_form='rad minister', full_category_name='nam_org_institution')\n",
      "10 Expression(original_form='Gliwice', base_form='Gliwice', full_category_name='nam_loc_gpe_city')\n",
      "10 Expression(original_form='Fiorentini Polska Sp', base_form='Fiorentini Polska spółka', full_category_name='nam_org_company')\n",
      "10 Expression(original_form='Poręba Górna', base_form='poręba górny', full_category_name='nam_loc_gpe_city')\n",
      "10 Expression(original_form='Krzysztof', base_form='Krzysztof', full_category_name='nam_liv_person')\n",
      "10 Expression(original_form='MET - ROLL ” Sp . z o . o .', base_form='meta - roll ” spółka . z o . o .', full_category_name='nam_org_company')\n",
      "10 Expression(original_form='Sądu Apelacyjnego – Sądu Dyscyplinarnego', base_form='sąd apelacyjny – sąd dyscyplinarny', full_category_name='nam_org_institution')\n",
      "10 Expression(original_form='Terespol', base_form='Terespol', full_category_name='nam_loc_gpe_city')\n",
      "10 Expression(original_form='Siemianowicka', base_form='siemianowicki', full_category_name='nam_fac_road')\n",
      "10 Expression(original_form='98', base_form='98', full_category_name='nam_num_house')\n",
      "9 Expression(original_form='ASECCO Systems S . A', base_form='ASECCO Systems sekunda . a', full_category_name='nam_org_company')\n",
      "9 Expression(original_form='Targowa', base_form='targowy', full_category_name='nam_fac_road')\n",
      "9 Expression(original_form='Kodeksu cywilnego', base_form='kodeks cywilny', full_category_name='nam_pro_title_document')\n",
      "9 Expression(original_form='Krajowym Rejestrze Sądowym', base_form='krajowy rejestr sądowy', full_category_name='nam_org_institution')\n",
      "9 Expression(original_form='Elektrownia O', base_form='elektrownia o', full_category_name='nam_fac_goe')\n",
      "9 Expression(original_form='Ministra Skarbu Państwa', base_form='minister skarb państwo', full_category_name='nam_org_institution')\n",
      "9 Expression(original_form='Kazimierza A .', base_form='Kazimierz a .', full_category_name='nam_liv_person')\n",
      "9 Expression(original_form='Wojewódzkiego Sądu Administracyjnego', base_form='wojewódzki sąd administracyjny', full_category_name='nam_org_institution')\n",
      "9 Expression(original_form='UEFA', base_form='UEFA', full_category_name='nam_org_organization')\n",
      "9 Expression(original_form='Sądu Apelacyjnego w Rzeszowie', base_form='sąd apelacyjny w Rzeszów', full_category_name='nam_org_institution')\n",
      "9 Expression(original_form='Naczelnej Rady Lekarskiej', base_form='naczelny rad lekarski', full_category_name='nam_org_institution')\n",
      "9 Expression(original_form='Samorządowego Kolegium Odwoławczego', base_form='samorządowy kolegium odwoławczy', full_category_name='nam_org_institution')\n",
      "9 Expression(original_form='ustawy o zmianie systemu pieniężnego', base_form='ustawa o zmiana system pieniężny', full_category_name='nam_pro_title_document')\n",
      "9 Expression(original_form='Lubaniu', base_form='Lubań', full_category_name='nam_loc_gpe_city')\n",
      "9 Expression(original_form='Mickiewicza', base_form='Mickiewicz', full_category_name='nam_fac_road')\n",
      "8 Expression(original_form='Izba', base_form='izba', full_category_name='nam_liv_person')\n",
      "8 Expression(original_form='Fundusz Pracy', base_form='fundusz praca', full_category_name='nam_org_institution')\n",
      "8 Expression(original_form='Skarżący', base_form='skarżący', full_category_name='nam_liv_person')\n",
      "8 Expression(original_form='Jerzy Kuźniar', base_form='Jerzy Kuźniar', full_category_name='nam_liv_person')\n"
     ]
    }
   ],
   "source": [
    "for expression, count in Counter(expressions).most_common(100):\n",
    "    print(count, expression)"
   ]
  },
  {
   "cell_type": "code",
   "execution_count": 34,
   "metadata": {
    "scrolled": false
   },
   "outputs": [
    {
     "name": "stdout",
     "output_type": "stream",
     "text": [
      "nam_org\n",
      "425 Expression(original_form='Sąd Najwyższy', base_form='sąd najwyższy', full_category_name='nam_org_institution')\n",
      "324 Expression(original_form='Trybunału Konstytucyjnego', base_form='trybunał konstytucyjny', full_category_name='nam_org_institution')\n",
      "274 Expression(original_form='Sądu Okręgowego', base_form='sąd okręgowy', full_category_name='nam_org_institution')\n",
      "190 Expression(original_form='Sąd Apelacyjny', base_form='sąd apelacyjny', full_category_name='nam_org_institution')\n",
      "121 Expression(original_form='Sądu Rejonowego', base_form='sąd rejonowy', full_category_name='nam_org_institution')\n",
      "110 Expression(original_form='TK', base_form='TK', full_category_name='nam_org_institution')\n",
      "105 Expression(original_form='Krajowa Izba Odwoławcza', base_form='krajowy izba odwoławczy', full_category_name='nam_org_institution')\n",
      "102 Expression(original_form='Urzędu Zamówień Publicznych', base_form='urząd zamówienie publiczny', full_category_name='nam_org_institution')\n",
      "86 Expression(original_form='Skarbowi Państwa', base_form='skarb państwo', full_category_name='nam_org_institution')\n",
      "55 Expression(original_form='XXX', base_form='XXX', full_category_name='nam_org_organization')\n",
      "\n",
      "nam_liv\n",
      "422 Expression(original_form='Zamawiający', base_form='zamawiać', full_category_name='nam_liv_person')\n",
      "165 Expression(original_form='Odwołującego', base_form='odwoływać', full_category_name='nam_liv_person')\n",
      "99 Expression(original_form='Najwyższy', base_form='najwyższy', full_category_name='nam_liv_person')\n",
      "52 Expression(original_form='Wykonawców', base_form='wykonawca', full_category_name='nam_liv_person')\n",
      "42 Expression(original_form='Karta Nauczyciela', base_form='kart nauczyciel', full_category_name='nam_liv_person')\n",
      "31 Expression(original_form='Protestującego', base_form='protestujący', full_category_name='nam_liv_person')\n",
      "23 Expression(original_form='Al', base_form='Al', full_category_name='nam_liv_person')\n",
      "20 Expression(original_form='Jadwiga A .', base_form='Jadwiga a .', full_category_name='nam_liv_person')\n",
      "15 Expression(original_form='Petrol - Hawen', base_form='Petrol - Hawen', full_category_name='nam_liv_person')\n",
      "13 Expression(original_form='Jadwigi K .', base_form='Jadwiga k .', full_category_name='nam_liv_person')\n",
      "\n",
      "nam_loc\n",
      "263 Expression(original_form='Warszawie', base_form='Warszawa', full_category_name='nam_loc_gpe_city')\n",
      "38 Expression(original_form='Polska', base_form='Polska', full_category_name='nam_loc_gpe_country')\n",
      "34 Expression(original_form='Poznaniu', base_form='Poznań', full_category_name='nam_loc_gpe_city')\n",
      "32 Expression(original_form='Wrocław', base_form='Wrocław', full_category_name='nam_loc_gpe_city')\n",
      "32 Expression(original_form='Krakowie', base_form='Krak', full_category_name='nam_loc_gpe_city')\n",
      "26 Expression(original_form='Izby', base_form='izba', full_category_name='nam_loc_gpe_city')\n",
      "24 Expression(original_form='Katowicach', base_form='Katowice', full_category_name='nam_loc_gpe_city')\n",
      "20 Expression(original_form='Szczecinie', base_form='Szczecin', full_category_name='nam_loc_gpe_city')\n",
      "18 Expression(original_form='Bielsku - Białej', base_form='bielski - Biała', full_category_name='nam_loc_gpe_city')\n",
      "18 Expression(original_form='Tarnowie', base_form='Tarnowo', full_category_name='nam_loc_gpe_city')\n",
      "\n",
      "nam_oth\n",
      "385 Expression(original_form='zł', base_form='złoty', full_category_name='nam_oth_currency')\n",
      "25 Expression(original_form='PLN', base_form='nowy_polski_złoty', full_category_name='nam_oth_currency')\n",
      "20 Expression(original_form='euro', base_form='euro', full_category_name='nam_oth_currency')\n",
      "3 Expression(original_form='PZPN', base_form='PZPN', full_category_name='nam_oth_tech')\n",
      "2 Expression(original_form='Internet', base_form='Internet', full_category_name='nam_oth_tech')\n",
      "2 Expression(original_form='ZUS', base_form='ZUS', full_category_name='nam_oth_tech')\n",
      "2 Expression(original_form='OFERTA', base_form='oferta', full_category_name='nam_oth_tech')\n",
      "2 Expression(original_form='http://przetargi.egospodarka.pl/27435', base_form='http://przetargi.egospodarka.pl/27435', full_category_name='nam_oth_www')\n",
      "1 Expression(original_form='IX', base_form='IX', full_category_name='nam_oth_tech')\n",
      "1 Expression(original_form='II', base_form='II', full_category_name='nam_oth_tech')\n",
      "\n",
      "nam_pro\n",
      "248 Expression(original_form='Dz . U .', base_form='dziennik . u .', full_category_name='nam_pro_media_periodic')\n",
      "94 Expression(original_form='Prawo zamówień publicznych', base_form='prawo zamówienie publiczny', full_category_name='nam_pro_title_document')\n",
      "91 Expression(original_form='Dz . U .', base_form='Dzieje_(Apostolskie) . u .', full_category_name='nam_pro_media_periodic')\n",
      "16 Expression(original_form='Dzienniku Urzędowym', base_form='dziennik urzędowy', full_category_name='nam_pro_media_periodic')\n",
      "15 Expression(original_form='Ordynacja podatkowa', base_form='ordynacja podatkowy', full_category_name='nam_pro_title_document')\n",
      "12 Expression(original_form='Konstytucji Rzeczypospolitej Polskiej', base_form='konstytucja rzeczpospolita polski', full_category_name='nam_pro_title_document')\n",
      "11 Expression(original_form='rozporządzenia Rady Ministrów', base_form='rozporządzenie rad minister', full_category_name='nam_pro_title_document')\n",
      "11 Expression(original_form='Dz . U', base_form='dziennik . u', full_category_name='nam_pro_media_periodic')\n",
      "10 Expression(original_form='ustawy z dnia 1 sierpnia 1997 r . o Trybunale Konstytucyjnym', base_form='ustawa z dzień 1 sierpień 1997 r . o trybunał konstytucyjny', full_category_name='nam_pro_title_document')\n",
      "10 Expression(original_form='Prawo zamówień publicznych oraz niektórych innych ustaw', base_form='prawo zamówienie publiczny oraz niektóry inny ustawa', full_category_name='nam_pro_title_document')\n",
      "\n",
      "nam_fac\n",
      "10 Expression(original_form='Siemianowicka', base_form='siemianowicki', full_category_name='nam_fac_road')\n",
      "9 Expression(original_form='Targowa', base_form='targowy', full_category_name='nam_fac_road')\n",
      "9 Expression(original_form='Elektrownia O', base_form='elektrownia o', full_category_name='nam_fac_goe')\n",
      "9 Expression(original_form='Mickiewicza', base_form='Mickiewicz', full_category_name='nam_fac_road')\n",
      "8 Expression(original_form='Nakielska', base_form='nakielski', full_category_name='nam_fac_road')\n",
      "7 Expression(original_form='Szkolnej', base_form='szkolny', full_category_name='nam_fac_road')\n",
      "6 Expression(original_form='Okrzei', base_form='Okrzeja', full_category_name='nam_fac_road')\n",
      "6 Expression(original_form='Ostrowskiej', base_form='Ostrowska', full_category_name='nam_fac_road')\n",
      "6 Expression(original_form='P', base_form='P', full_category_name='nam_fac_road')\n",
      "6 Expression(original_form='Filtrowa', base_form='filtrowy', full_category_name='nam_fac_road')\n",
      "\n",
      "nam_num\n",
      "15 Expression(original_form='1', base_form='1', full_category_name='nam_num_house')\n",
      "10 Expression(original_form='74', base_form='74', full_category_name='nam_num_house')\n",
      "10 Expression(original_form='98', base_form='98', full_category_name='nam_num_house')\n",
      "8 Expression(original_form='26', base_form='26', full_category_name='nam_num_house')\n",
      "8 Expression(original_form='42', base_form='42', full_category_name='nam_num_house')\n",
      "8 Expression(original_form='16', base_form='16', full_category_name='nam_num_house')\n",
      "7 Expression(original_form='6', base_form='6', full_category_name='nam_num_house')\n",
      "6 Expression(original_form='504', base_form='504', full_category_name='nam_num_house')\n",
      "6 Expression(original_form='9', base_form='9', full_category_name='nam_num_house')\n",
      "6 Expression(original_form='25', base_form='25', full_category_name='nam_num_house')\n",
      "\n",
      "nam_eve\n",
      "5 Expression(original_form='Pucharu Polski', base_form='puchar Polska', full_category_name='nam_eve_human_sport')\n",
      "5 Expression(original_form='Puchar UEFA', base_form='puchar UEFA', full_category_name='nam_eve_human_sport')\n",
      "3 Expression(original_form='Ligi Mistrzów UEFA', base_form='liga mistrz UEFA', full_category_name='nam_eve_human_sport')\n",
      "3 Expression(original_form='M - P', base_form='M - P', full_category_name='nam_eve_human')\n",
      "2 Expression(original_form='Programu Współpracy Przygranicznej', base_form='program współpraca przygraniczny', full_category_name='nam_eve_human')\n",
      "2 Expression(original_form='Pucharu Ligi Polskiej', base_form='puchar liga polski', full_category_name='nam_eve_human_sport')\n",
      "2 Expression(original_form='Ligi Mistrzów', base_form='liga mistrz', full_category_name='nam_eve_human_sport')\n",
      "2 Expression(original_form='Film Focal Distance', base_form='film Focal Distance', full_category_name='nam_eve_human')\n",
      "1 Expression(original_form='X 2 SIWZ', base_form='X 2 SIWZ', full_category_name='nam_eve_human')\n",
      "1 Expression(original_form='Minimalne wymagania Zamawiającego', base_form='minimalny wymaganie zamawiać', full_category_name='nam_eve_human')\n",
      "\n",
      "nam_adj\n",
      "11 Expression(original_form='polskiego', base_form='polski', full_category_name='nam_adj_country')\n",
      "4 Expression(original_form='unijnych', base_form='unijny', full_category_name='nam_adj_other')\n",
      "4 Expression(original_form='europejskich', base_form='europejski', full_category_name='nam_adj_other')\n",
      "1 Expression(original_form='francuskiego', base_form='francuski', full_category_name='nam_adj_country')\n",
      "1 Expression(original_form='nauczycielskiego', base_form='nauczycielski', full_category_name='nam_adj_city')\n",
      "1 Expression(original_form='Taka', base_form='taka', full_category_name='nam_adj_person')\n",
      "1 Expression(original_form='internetowej', base_form='internetowy', full_category_name='nam_adj_other')\n",
      "1 Expression(original_form='Regionalny', base_form='regionalny', full_category_name='nam_adj_country')\n",
      "\n"
     ]
    }
   ],
   "source": [
    "for category in general_categories_counter:\n",
    "    expressions_for_category = [expression for expression in expressions if expression.general_category_name == category]\n",
    "    print(category)\n",
    "    for expression, count in Counter(expressions_for_category).most_common(10): \n",
    "        print(count, expression)\n",
    "    print()"
   ]
  }
 ],
 "metadata": {
  "kernelspec": {
   "display_name": "Python 3",
   "language": "python",
   "name": "python3"
  },
  "language_info": {
   "codemirror_mode": {
    "name": "ipython",
    "version": 3
   },
   "file_extension": ".py",
   "mimetype": "text/x-python",
   "name": "python",
   "nbconvert_exporter": "python",
   "pygments_lexer": "ipython3",
   "version": "3.6.3"
  }
 },
 "nbformat": 4,
 "nbformat_minor": 2
}
