{
 "cells": [
  {
   "cell_type": "code",
   "execution_count": 1,
   "metadata": {
    "collapsed": true
   },
   "outputs": [],
   "source": [
    "import glob\n",
    "import os\n",
    "import string\n",
    "from concurrent.futures import ThreadPoolExecutor as Pool\n",
    "from subprocess import check_output, run\n",
    "\n",
    "import requests\n",
    "\n",
    "import nltk\n",
    "from sklearn.model_selection import train_test_split\n",
    "from sklearn.metrics import precision_recall_fscore_support, classification_report"
   ]
  },
  {
   "cell_type": "code",
   "execution_count": 2,
   "metadata": {
    "collapsed": true
   },
   "outputs": [],
   "source": [
    "FASTTEXT_PATH = '../../fastText/fasttext'\n",
    "MODEL_NAME = 'model'\n",
    "ALL_SENTENCES = 'sentences.txt'\n",
    "TRAIN_SENTENCES = 'sentences.train'\n",
    "TEST_SENTENCES = 'sentences.test'"
   ]
  },
  {
   "cell_type": "code",
   "execution_count": 3,
   "metadata": {
    "collapsed": true
   },
   "outputs": [],
   "source": [
    "books = {\n",
    "    'mickiewicz': [\n",
    "        'https://wolnelektury.pl/media/book/txt/pan-tadeusz.txt',\n",
    "        'https://wolnelektury.pl/media/book/txt/dziady-dziady-widowisko-czesc-i.txt',\n",
    "        'https://wolnelektury.pl/media/book/txt/dziady-dziadow-czesci-iii-ustep-do-przyjaciol-moskali.txt',\n",
    "        'https://wolnelektury.pl/media/book/txt/ballady-i-romanse-pani-twardowska.txt',\n",
    "        'https://wolnelektury.pl/media/book/txt/ballady-i-romanse-powrot-taty.txt',\n",
    "        'https://wolnelektury.pl/media/book/txt/ballady-i-romanse-switez.txt',\n",
    "        'https://wolnelektury.pl/media/book/txt/dziady-dziady-poema-dziady-czesc-iv.txt',\n",
    "        'https://wolnelektury.pl/media/book/txt/oda-do-mlodosci.txt'\n",
    "    ],\n",
    "    'sienkiewicz': [\n",
    "        'https://wolnelektury.pl/media/book/txt/quo-vadis.txt',\n",
    "        'https://wolnelektury.pl/media/book/txt/sienkiewicz-we-mgle.txt',\n",
    "        'https://wolnelektury.pl/media/book/txt/potop-tom-pierwszy.txt',\n",
    "        'https://wolnelektury.pl/media/book/txt/potop-tom-drugi.txt',\n",
    "        'https://wolnelektury.pl/media/book/txt/potop-tom-trzeci.txt',\n",
    "    ],\n",
    "    'orzeszkowa': [\n",
    "        'https://wolnelektury.pl/media/book/txt/orzeszkowa-kto-winien.txt',\n",
    "        'https://wolnelektury.pl/media/book/txt/nad-niemnem-tom-pierwszy.txt',\n",
    "        'https://wolnelektury.pl/media/book/txt/nad-niemnem-tom-drugi.txt',\n",
    "        'https://wolnelektury.pl/media/book/txt/nad-niemnem-tom-trzeci.txt',\n",
    "        'https://wolnelektury.pl/media/book/txt/gloria-victis-dziwna-historia.txt',\n",
    "        'https://wolnelektury.pl/media/book/txt/z-pozogi.txt',\n",
    "        'https://wolnelektury.pl/media/book/txt/pani-dudkowa.txt',\n",
    "        'https://wolnelektury.pl/media/book/txt/dymy.txt',\n",
    "        'https://wolnelektury.pl/media/book/txt/syn-stolarza.txt',\n",
    "        'https://wolnelektury.pl/media/book/txt/dobra-pani.txt',\n",
    "        'https://wolnelektury.pl/media/book/txt/cnotliwi.txt',\n",
    "        'https://wolnelektury.pl/media/book/txt/kilka-slow-o-kobietach.txt',\n",
    "        'https://wolnelektury.pl/media/book/txt/patryotyzm-i-kosmopolityzm.txt',\n",
    "        'https://wolnelektury.pl/media/book/txt/julianka.txt',\n",
    "    ],\n",
    "    'prus': [\n",
    "        'https://wolnelektury.pl/media/book/txt/lalka-tom-drugi.txt',\n",
    "        'https://wolnelektury.pl/media/book/txt/lalka-tom-pierwszy.txt',\n",
    "        'https://wolnelektury.pl/media/book/txt/antek.txt',\n",
    "        'https://wolnelektury.pl/media/book/txt/katarynka.txt',\n",
    "        'https://wolnelektury.pl/media/book/txt/prus-anielka.txt',\n",
    "        'https://wolnelektury.pl/media/book/txt/prus-placowka.txt',\n",
    "\n",
    "    ],\n",
    "    'reymont': [\n",
    "        'https://wolnelektury.pl/media/book/txt/ziemia-obiecana-tom-pierwszy.txt',\n",
    "        'https://wolnelektury.pl/media/book/txt/chlopi-czesc-pierwsza-jesien.txt',\n",
    "        'https://wolnelektury.pl/media/book/txt/reymont-chlopi-zima.txt',\n",
    "        'https://wolnelektury.pl/media/book/txt/chlopi-czesc-trzecia-wiosna.txt',\n",
    "        'https://wolnelektury.pl/media/book/txt/chlopi-czesc-czwarta-lato.txt',\n",
    "    ]\n",
    "}"
   ]
  },
  {
   "cell_type": "code",
   "execution_count": 4,
   "metadata": {
    "collapsed": true
   },
   "outputs": [],
   "source": [
    "def download_book(author, url):\n",
    "    book_content = requests.get(url).text\n",
    "    file_name = url.split('/')[-1]\n",
    "    footer = book_content.rindex('-----')\n",
    "    header = book_content.find('ISBN') + 23  # magic number\n",
    "    with open(os.path.join(author, file_name), 'w', encoding='utf-8') as file:\n",
    "        file.write(book_content[header:footer])\n",
    "    return url\n",
    "\n",
    "\n",
    "def download_books():\n",
    "    for author in books:\n",
    "        if not os.path.exists(author):\n",
    "            os.makedirs(author)\n",
    "\n",
    "    authors = [author for author, urls in books.items() for _ in urls]\n",
    "    urls = [url for author, urls in books.items() for url in urls]\n",
    "\n",
    "    with Pool() as pool:\n",
    "        for finished_url in pool.map(download_book, authors, urls):\n",
    "            print(finished_url)\n",
    "\n",
    "\n",
    "def get_sentences(filename):\n",
    "    with open(filename, 'r', encoding='utf-8') as file:\n",
    "        return nltk.sent_tokenize(file.read(), language='polish')\n",
    "\n",
    "\n",
    "def create_file_with_sentences():\n",
    "    with open(ALL_SENTENCES, 'w', encoding='utf-8') as result_file:\n",
    "        for author in books:\n",
    "            sentences = (sentence.strip(string.whitespace) \n",
    "                         for filename in glob.glob(author +  os.path.sep + '*') \n",
    "                         for sentence in get_sentences(filename))\n",
    "            for sentence in sentences:\n",
    "                if len(sentence) > 3:\n",
    "                    print(f'__label__{author} {sentence}', file=result_file)"
   ]
  },
  {
   "cell_type": "code",
   "execution_count": 131,
   "metadata": {},
   "outputs": [
    {
     "name": "stdout",
     "output_type": "stream",
     "text": [
      "https://wolnelektury.pl/media/book/txt/pan-tadeusz.txt\n",
      "https://wolnelektury.pl/media/book/txt/dziady-dziady-widowisko-czesc-i.txt\n",
      "https://wolnelektury.pl/media/book/txt/dziady-dziadow-czesci-iii-ustep-do-przyjaciol-moskali.txt\n",
      "https://wolnelektury.pl/media/book/txt/ballady-i-romanse-pani-twardowska.txt\n",
      "https://wolnelektury.pl/media/book/txt/ballady-i-romanse-powrot-taty.txt\n",
      "https://wolnelektury.pl/media/book/txt/ballady-i-romanse-switez.txt\n",
      "https://wolnelektury.pl/media/book/txt/dziady-dziady-poema-dziady-czesc-iv.txt\n",
      "https://wolnelektury.pl/media/book/txt/quo-vadis.txt\n",
      "https://wolnelektury.pl/media/book/txt/sienkiewicz-we-mgle.txt\n",
      "https://wolnelektury.pl/media/book/txt/potop-tom-pierwszy.txt\n",
      "https://wolnelektury.pl/media/book/txt/potop-tom-drugi.txt\n",
      "https://wolnelektury.pl/media/book/txt/potop-tom-trzeci.txt\n",
      "https://wolnelektury.pl/media/book/txt/orzeszkowa-kto-winien.txt\n",
      "https://wolnelektury.pl/media/book/txt/nad-niemnem-tom-pierwszy.txt\n",
      "https://wolnelektury.pl/media/book/txt/nad-niemnem-tom-drugi.txt\n",
      "https://wolnelektury.pl/media/book/txt/nad-niemnem-tom-trzeci.txt\n",
      "https://wolnelektury.pl/media/book/txt/gloria-victis-dziwna-historia.txt\n",
      "https://wolnelektury.pl/media/book/txt/z-pozogi.txt\n",
      "https://wolnelektury.pl/media/book/txt/pani-dudkowa.txt\n",
      "https://wolnelektury.pl/media/book/txt/dymy.txt\n",
      "https://wolnelektury.pl/media/book/txt/syn-stolarza.txt\n",
      "https://wolnelektury.pl/media/book/txt/dobra-pani.txt\n",
      "https://wolnelektury.pl/media/book/txt/cnotliwi.txt\n",
      "https://wolnelektury.pl/media/book/txt/kilka-slow-o-kobietach.txt\n",
      "https://wolnelektury.pl/media/book/txt/patryotyzm-i-kosmopolityzm.txt\n",
      "https://wolnelektury.pl/media/book/txt/julianka.txt\n",
      "https://wolnelektury.pl/media/book/txt/lalka-tom-drugi.txt\n",
      "https://wolnelektury.pl/media/book/txt/lalka-tom-pierwszy.txt\n",
      "https://wolnelektury.pl/media/book/txt/antek.txt\n",
      "https://wolnelektury.pl/media/book/txt/katarynka.txt\n",
      "https://wolnelektury.pl/media/book/txt/prus-anielka.txt\n",
      "https://wolnelektury.pl/media/book/txt/prus-placowka.txt\n",
      "https://wolnelektury.pl/media/book/txt/ziemia-obiecana-tom-pierwszy.txt\n",
      "https://wolnelektury.pl/media/book/txt/chlopi-czesc-pierwsza-jesien.txt\n",
      "https://wolnelektury.pl/media/book/txt/reymont-chlopi-zima.txt\n",
      "https://wolnelektury.pl/media/book/txt/chlopi-czesc-trzecia-wiosna.txt\n",
      "https://wolnelektury.pl/media/book/txt/chlopi-czesc-czwarta-lato.txt\n"
     ]
    }
   ],
   "source": [
    "# download_books()"
   ]
  },
  {
   "cell_type": "code",
   "execution_count": 158,
   "metadata": {
    "collapsed": true
   },
   "outputs": [],
   "source": [
    "if not os.path.isfile(ALL_SENTENCES):\n",
    "    create_file_with_sentences()"
   ]
  },
  {
   "cell_type": "code",
   "execution_count": 5,
   "metadata": {
    "collapsed": true
   },
   "outputs": [],
   "source": [
    "with open(ALL_SENTENCES, 'r', encoding='utf-8') as file:\n",
    "    sentences_train, sentences_test = train_test_split(list(file), test_size=0.2)"
   ]
  },
  {
   "cell_type": "code",
   "execution_count": 133,
   "metadata": {
    "scrolled": true
   },
   "outputs": [
    {
     "data": {
      "text/plain": [
       "109827"
      ]
     },
     "execution_count": 133,
     "metadata": {},
     "output_type": "execute_result"
    }
   ],
   "source": [
    "len(sentences_train)"
   ]
  },
  {
   "cell_type": "code",
   "execution_count": 134,
   "metadata": {
    "scrolled": true
   },
   "outputs": [
    {
     "data": {
      "text/plain": [
       "27457"
      ]
     },
     "execution_count": 134,
     "metadata": {},
     "output_type": "execute_result"
    }
   ],
   "source": [
    "len(sentences_test)"
   ]
  },
  {
   "cell_type": "code",
   "execution_count": 135,
   "metadata": {
    "collapsed": true
   },
   "outputs": [],
   "source": [
    "with open(TRAIN_SENTENCES, 'w', encoding='utf-8') as file:\n",
    "    file.write(''.join(sentences_train))\n",
    "    \n",
    "with open(TEST_SENTENCES, 'w', encoding='utf-8') as file:\n",
    "    file.write(''.join(sentences_test))"
   ]
  },
  {
   "cell_type": "code",
   "execution_count": 136,
   "metadata": {
    "collapsed": true
   },
   "outputs": [],
   "source": [
    "def train_model(train_file):\n",
    "    run([FASTTEXT_PATH, 'supervised', '-input', train_file, '-output', MODEL_NAME])"
   ]
  },
  {
   "cell_type": "code",
   "execution_count": 137,
   "metadata": {
    "collapsed": true
   },
   "outputs": [],
   "source": [
    "train_model(TRAIN_SENTENCES)"
   ]
  },
  {
   "cell_type": "code",
   "execution_count": 138,
   "metadata": {
    "collapsed": true
   },
   "outputs": [],
   "source": [
    "y_true = [sentence.split(' ')[0] for sentence in sentences_test]"
   ]
  },
  {
   "cell_type": "code",
   "execution_count": 139,
   "metadata": {
    "collapsed": true
   },
   "outputs": [],
   "source": [
    "def predict(test_file):\n",
    "    return check_output([FASTTEXT_PATH, 'predict', f'{MODEL_NAME}.bin', test_file]).decode().split('\\r\\n')[:-1]"
   ]
  },
  {
   "cell_type": "code",
   "execution_count": 140,
   "metadata": {
    "collapsed": true
   },
   "outputs": [],
   "source": [
    "predictions = predict(TEST_SENTENCES)"
   ]
  },
  {
   "cell_type": "code",
   "execution_count": 149,
   "metadata": {
    "collapsed": true
   },
   "outputs": [],
   "source": [
    "def print_results(y_true, predictions, average):\n",
    "    precision, recall, fscore, _ = precision_recall_fscore_support(y_true, predictions, average=average)\n",
    "    print(average)\n",
    "    print('Precision', precision)\n",
    "    print('Recall', recall)\n",
    "    print('F1', fscore)"
   ]
  },
  {
   "cell_type": "code",
   "execution_count": 151,
   "metadata": {},
   "outputs": [
    {
     "name": "stdout",
     "output_type": "stream",
     "text": [
      "micro\n",
      "Precision 0.7254616309137925\n",
      "Recall 0.7254616309137925\n",
      "F1 0.7254616309137925\n"
     ]
    }
   ],
   "source": [
    "print_results(y_true, predictions, average='micro')"
   ]
  },
  {
   "cell_type": "code",
   "execution_count": 152,
   "metadata": {
    "scrolled": true
   },
   "outputs": [
    {
     "name": "stdout",
     "output_type": "stream",
     "text": [
      "macro\n",
      "Precision 0.7096142817412083\n",
      "Recall 0.7071523894874279\n",
      "F1 0.7082219632044042\n"
     ]
    }
   ],
   "source": [
    "print_results(y_true, predictions, average='macro')"
   ]
  },
  {
   "cell_type": "code",
   "execution_count": 157,
   "metadata": {},
   "outputs": [
    {
     "name": "stdout",
     "output_type": "stream",
     "text": [
      "                      precision    recall  f1-score   support\n",
      "\n",
      " __label__mickiewicz       0.64      0.61      0.62      2702\n",
      " __label__orzeszkowa       0.68      0.70      0.69      4790\n",
      "       __label__prus       0.72      0.70      0.71      6331\n",
      "    __label__reymont       0.72      0.73      0.73      5388\n",
      "__label__sienkiewicz       0.79      0.79      0.79      8246\n",
      "\n",
      "         avg / total       0.73      0.73      0.73     27457\n",
      "\n"
     ]
    }
   ],
   "source": [
    "print(classification_report(y_true, predictions))"
   ]
  }
 ],
 "metadata": {
  "kernelspec": {
   "display_name": "Python 3",
   "language": "python",
   "name": "python3"
  },
  "language_info": {
   "codemirror_mode": {
    "name": "ipython",
    "version": 3
   },
   "file_extension": ".py",
   "mimetype": "text/x-python",
   "name": "python",
   "nbconvert_exporter": "python",
   "pygments_lexer": "ipython3",
   "version": "3.6.3"
  }
 },
 "nbformat": 4,
 "nbformat_minor": 2
}
