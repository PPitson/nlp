{
 "cells": [
  {
   "cell_type": "code",
   "execution_count": 21,
   "metadata": {
    "collapsed": true
   },
   "outputs": [],
   "source": [
    "import glob\n",
    "import itertools\n",
    "import json\n",
    "import operator\n",
    "import os"
   ]
  },
  {
   "cell_type": "code",
   "execution_count": 22,
   "metadata": {
    "collapsed": true
   },
   "outputs": [],
   "source": [
    "YEAR = 2009\n",
    "REGULATION = 'Ustawa z dnia 23 kwietnia 1964 r. - Kodeks cywilny'\n",
    "ARTICLE = 445\n",
    "CASES = {\n",
    "    'szkoda',\n",
    "    'szkody',\n",
    "    'szkodzie',\n",
    "    'szkodę',\n",
    "    'szkodą',\n",
    "    'szkodzie',\n",
    "    'szkodo',\n",
    "    'szkody',\n",
    "    'szkód',\n",
    "    'szkodom',\n",
    "    'szkody',\n",
    "    'szkodami',\n",
    "    'szkodach',\n",
    "    'szkody'\n",
    "}\n",
    "PATH = 'F:\\\\saos\\\\data\\\\json\\\\judgments-*'\n",
    "FILENAMES_FOR_YEAR = f'judgments_from_{YEAR}.json'\n",
    "HISTOGRAMS_DIR = 'histograms'"
   ]
  },
  {
   "cell_type": "code",
   "execution_count": 23,
   "metadata": {
    "collapsed": true
   },
   "outputs": [],
   "source": [
    "import os\n",
    "from itertools import tee, filterfalse\n",
    "from textwrap import wrap\n",
    "\n",
    "import matplotlib.pyplot as plt\n",
    "import numpy as np\n",
    "from matplotlib.ticker import FuncFormatter\n",
    "\n",
    "\n",
    "def partition(pred, iterable):\n",
    "    t1, t2 = tee(iterable)\n",
    "    return filterfalse(pred, t1), filter(pred, t2)\n",
    "\n",
    "\n",
    "def plot_histograms(money_values):\n",
    "    plot_data(list(money_values), label='all')\n",
    "    less_than_million, more_than_million = partition(lambda x: x >= 1e6, money_values)\n",
    "    plot_data(list(less_than_million), label='less_than_million')\n",
    "    plot_data(list(more_than_million), label='more_than_million')\n",
    "\n",
    "\n",
    "def format_value(value, _):\n",
    "    if value < 1e3:\n",
    "        divider = 1\n",
    "    elif value < 1e6:\n",
    "        divider = 1e3\n",
    "        suffix = 'tys.'\n",
    "    elif value < 1e9:\n",
    "        divider = 1e6\n",
    "        suffix = 'mln'\n",
    "    else:\n",
    "        divider = 1e9\n",
    "        suffix = 'mld'\n",
    "    value = int(value // divider)\n",
    "    return f'{value} {suffix}' if divider != 1 else str(value)\n",
    "\n",
    "\n",
    "def plot_data(data, label):\n",
    "    title_part = {\n",
    "        'all': 'wszystkich wartości pieniężnych',\n",
    "        'less_than_million': 'wartości pieniężnych poniżej 1 mln złotych',\n",
    "        'more_than_million': 'wartości pieniężnych powyżej 1 mln złotych'\n",
    "    }\n",
    "    number_of_bins = 40\n",
    "    x_min = min(data)\n",
    "    x_max = max(data)\n",
    "    plt.hist(data, bins=np.logspace(np.log10(x_min), np.log10(x_max), number_of_bins), rwidth=0.9)\n",
    "    ax = plt.gca()\n",
    "    ax.set_xlim(xmin=x_min, xmax=x_max)\n",
    "    ax.set_yscale('log', nonposy='clip')\n",
    "    ax.set_xscale('log')\n",
    "    ax.xaxis.set_major_formatter(FuncFormatter(format_value))\n",
    "    title = wrap(f'Histogram dla {title_part[label]} pojawiających się w tekstach orzeczeń z roku {YEAR}', width=60)\n",
    "    plt.title('\\n'.join(title))\n",
    "    plt.xlabel('złotych')\n",
    "    plt.ylabel('Liczba odniesień w tekstach')\n",
    "    if not os.path.exists(HISTOGRAMS_DIR):\n",
    "        os.makedirs(HISTOGRAMS_DIR)\n",
    "    plt.savefig(os.path.join(HISTOGRAMS_DIR, label + '.png'))\n",
    "    plt.show()"
   ]
  },
  {
   "cell_type": "code",
   "execution_count": 24,
   "metadata": {
    "collapsed": true
   },
   "outputs": [],
   "source": [
    "import re\n",
    "\n",
    "\n",
    "def extract_money(judgment_text):\n",
    "    regex = '''\n",
    "        (?:\n",
    "            [1-9]\\d*                    # digits, first being non-zero\n",
    "            (?:[\\. ]\\d+)*               # . or space to group by thousands e.g. 123 742  or 659.041.328\n",
    "        )+\n",
    "        (?:,\\d+)?\\                      # fractional part followed by space   e.g. 2,5   391.678,99 \n",
    "        (?:\n",
    "            tys\\.? |mln\\.? |mld\\.? |\n",
    "            \\(\\w+[ \\w+]*\\)\\             # e.g.  360 (trzysta sześćdziesiąt)\n",
    "        )?\n",
    "        (?=zł)\n",
    "    '''\n",
    "    return map(normalize, re.findall(regex, judgment_text, re.VERBOSE))\n",
    "\n",
    "\n",
    "def normalize(money_text: str):\n",
    "    money_text = money_text.strip()  # space at the end\n",
    "    d = {'tys': 3, 'mln': 6, 'mld': 9}\n",
    "\n",
    "    if re.match('(?:[1-9]\\d*(?:[\\. ]\\d+)*)+\\s*\\([\\w+\\s]+\\)',\n",
    "                money_text):  # e.g. '360 (trzysta sześćdziesiąt)'  => extract 360\n",
    "        money_text = money_text[:money_text.find('(')]\n",
    "\n",
    "    money_text = money_text.replace('.', ' ').strip()  # '3.319.726' -> '3 319 726'\n",
    "\n",
    "    if not any(money_text.endswith(key) for key in d):  # does not contain tys. or mln or mln\n",
    "        try:  # '90 853,33'  => ignore fractional part ,33\n",
    "            money_text = money_text[:money_text.index(',')]\n",
    "        except ValueError:  # does not contain fractional part\n",
    "            pass\n",
    "        return int(money_text.replace(' ', ''))\n",
    "\n",
    "    *numbers, word = money_text.split(' ')\n",
    "    if len(numbers) == 1:  # e.g.  52 mln  -> 52000000\n",
    "        return float(numbers[0].replace(',', '.')) * 10 ** d[word]\n",
    "    else:  # e.g. 802 054 tys. -> 802054\n",
    "        return int(''.join(numbers))\n",
    "\n",
    "\n",
    "def references_article_of_regulation(reference, regulation, article):\n",
    "    regex = 'art\\.\\s+' + str(article)\n",
    "    return reference['journalTitle'].lower() == regulation.lower() and bool(re.search(regex, reference['text']))\n",
    "\n",
    "\n",
    "def contains_any_word_case(judgment_text, cases):\n",
    "    regex = '|'.join(rf'\\b{case}\\b' for case in cases)\n",
    "    return bool(re.search(regex, judgment_text))"
   ]
  },
  {
   "cell_type": "code",
   "execution_count": 25,
   "metadata": {
    "collapsed": true
   },
   "outputs": [],
   "source": [
    "year_pattern = str(YEAR) + '-\\d{2}-\\d{2}'\n",
    "\n",
    "\n",
    "def get_filenames_with_judgments_for_year(judgment_filenames):\n",
    "    with open(FILENAMES_FOR_YEAR, 'w') as file:\n",
    "        filenames_for_year = filter(contains_judgments_from_year, judgment_filenames)\n",
    "        json.dump(list(filenames_for_year), file)\n",
    "\n",
    "        \n",
    "def contains_judgments_from_year(filename):\n",
    "    return any(re.match(year_pattern, item['judgmentDate']) for item in get_judgments(filename))\n",
    "\n",
    "\n",
    "def get_judgments(filename):\n",
    "    with open(filename, encoding='utf-8') as file:\n",
    "        content = json.load(file)\n",
    "    return (item for item in content['items'] if re.match(year_pattern, item['judgmentDate']))"
   ]
  },
  {
   "cell_type": "code",
   "execution_count": 26,
   "metadata": {
    "collapsed": true,
    "scrolled": false
   },
   "outputs": [],
   "source": [
    "judgment_filenames = glob.glob(PATH)\n",
    "\n",
    "if not os.path.isfile(FILENAMES_FOR_YEAR):\n",
    "    get_filenames_with_judgments_for_year(judgment_filenames)\n",
    "    \n",
    "with open(FILENAMES_FOR_YEAR) as file:\n",
    "    filenames_with_judgments_for_year = json.load(file)\n",
    "    judgments = list(itertools.chain.from_iterable(map(get_judgments, filenames_with_judgments_for_year)))"
   ]
  },
  {
   "cell_type": "code",
   "execution_count": 27,
   "metadata": {
    "collapsed": true
   },
   "outputs": [],
   "source": [
    "judgment_texts = list(map(operator.itemgetter('textContent'), judgments))\n",
    "referenced_regulations = itertools.chain.from_iterable(map(operator.itemgetter('referencedRegulations'), judgments))"
   ]
  },
  {
   "cell_type": "code",
   "execution_count": 28,
   "metadata": {},
   "outputs": [
    {
     "data": {
      "image/png": "[encoded data removed]",
      "text/plain": [
       "<matplotlib.figure.Figure at 0x2355091a940>"
      ]
     },
     "metadata": {},
     "output_type": "display_data"
    },
    {
     "data": {
      "image/png": "[encoded data removed]",
      "text/plain": [
       "<matplotlib.figure.Figure at 0x2355a8c8ba8>"
      ]
     },
     "metadata": {},
     "output_type": "display_data"
    },
    {
     "data": {
      "image/png": "[encoded data removed]",
      "text/plain": [
       "<matplotlib.figure.Figure at 0x235506fd780>"
      ]
     },
     "metadata": {},
     "output_type": "display_data"
    }
   ],
   "source": [
    "money_values = list(itertools.chain.from_iterable(extract_money(judgment_text) for judgment_text in judgment_texts))\n",
    "plot_histograms(money_values)"
   ]
  },
  {
   "cell_type": "code",
   "execution_count": 29,
   "metadata": {},
   "outputs": [
    {
     "name": "stdout",
     "output_type": "stream",
     "text": [
      "Ilość odwołań do art. 445 ustawy \"Ustawa z dnia 23 kwietnia 1964 r. - Kodeks cywilny\": 37\n"
     ]
    }
   ],
   "source": [
    "reference_count = sum(references_article_of_regulation(reference, REGULATION, ARTICLE)\n",
    "                      for reference in referenced_regulations)\n",
    "print(f'Ilość odwołań do art. {ARTICLE} ustawy \"{REGULATION}\": {reference_count}')"
   ]
  },
  {
   "cell_type": "code",
   "execution_count": 31,
   "metadata": {},
   "outputs": [
    {
     "name": "stdout",
     "output_type": "stream",
     "text": [
      "Liczba orzeczeń zawierających słowo szkoda w dowolnej formie fleksyjnej: 733\n"
     ]
    }
   ],
   "source": [
    "texts_with_szkoda_count = sum(contains_any_word_case(judgment_text, CASES) for judgment_text in judgment_texts)\n",
    "print(f'Liczba orzeczeń zawierających słowo szkoda w dowolnej formie fleksyjnej: {texts_with_szkoda_count}')"
   ]
  }
 ],
 "metadata": {
  "kernelspec": {
   "display_name": "Python 3",
   "language": "python",
   "name": "python3"
  },
  "language_info": {
   "codemirror_mode": {
    "name": "ipython",
    "version": 3
   },
   "file_extension": ".py",
   "mimetype": "text/x-python",
   "name": "python",
   "nbconvert_exporter": "python",
   "pygments_lexer": "ipython3",
   "version": "3.6.3"
  }
 },
 "nbformat": 4,
 "nbformat_minor": 1
}
